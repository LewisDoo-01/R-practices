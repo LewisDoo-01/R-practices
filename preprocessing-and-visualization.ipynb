{
 "cells": [
  {
   "cell_type": "markdown",
   "id": "d16255d8",
   "metadata": {
    "papermill": {
     "duration": 0.007825,
     "end_time": "2024-10-18T07:29:04.432449",
     "exception": false,
     "start_time": "2024-10-18T07:29:04.424624",
     "status": "completed"
    },
    "tags": []
   },
   "source": [
    "## Description\n",
    "In this lab, you will continue working with the airline delay dataset, focusing on data cleaning, preprocessing, and visualization techniques. You'll practice handling missing values, data normalization, binning, and creating indicator variables using R and the tidyverse package."
   ]
  },
  {
   "cell_type": "markdown",
   "id": "49f88c40",
   "metadata": {
    "papermill": {
     "duration": 0.006802,
     "end_time": "2024-10-18T07:29:04.446089",
     "exception": false,
     "start_time": "2024-10-18T07:29:04.439287",
     "status": "completed"
    },
    "tags": []
   },
   "source": [
    "# Tasks\n",
    "### Task 1: Data Inspection and Handling Missing Values (25 points)"
   ]
  },
  {
   "cell_type": "code",
   "execution_count": 1,
   "id": "405dc988",
   "metadata": {
    "_execution_state": "idle",
    "_uuid": "051d70d956493feee0c6d64651c6a088724dca2a",
    "execution": {
     "iopub.execute_input": "2024-10-18T07:29:04.464910Z",
     "iopub.status.busy": "2024-10-18T07:29:04.462302Z",
     "iopub.status.idle": "2024-10-18T07:29:05.712579Z",
     "shell.execute_reply": "2024-10-18T07:29:05.710705Z"
    },
    "papermill": {
     "duration": 1.262934,
     "end_time": "2024-10-18T07:29:05.715681",
     "exception": false,
     "start_time": "2024-10-18T07:29:04.452747",
     "status": "completed"
    },
    "tags": []
   },
   "outputs": [
    {
     "name": "stderr",
     "output_type": "stream",
     "text": [
      "── \u001b[1mAttaching core tidyverse packages\u001b[22m ──────────────────────── tidyverse 2.0.0 ──\n",
      "\u001b[32m✔\u001b[39m \u001b[34mdplyr    \u001b[39m 1.1.4     \u001b[32m✔\u001b[39m \u001b[34mreadr    \u001b[39m 2.1.5\n",
      "\u001b[32m✔\u001b[39m \u001b[34mforcats  \u001b[39m 1.0.0     \u001b[32m✔\u001b[39m \u001b[34mstringr  \u001b[39m 1.5.1\n",
      "\u001b[32m✔\u001b[39m \u001b[34mggplot2  \u001b[39m 3.5.1     \u001b[32m✔\u001b[39m \u001b[34mtibble   \u001b[39m 3.2.1\n",
      "\u001b[32m✔\u001b[39m \u001b[34mlubridate\u001b[39m 1.9.3     \u001b[32m✔\u001b[39m \u001b[34mtidyr    \u001b[39m 1.3.1\n",
      "\u001b[32m✔\u001b[39m \u001b[34mpurrr    \u001b[39m 1.0.2     \n"
     ]
    },
    {
     "name": "stderr",
     "output_type": "stream",
     "text": [
      "── \u001b[1mConflicts\u001b[22m ────────────────────────────────────────── tidyverse_conflicts() ──\n",
      "\u001b[31m✖\u001b[39m \u001b[34mdplyr\u001b[39m::\u001b[32mfilter()\u001b[39m masks \u001b[34mstats\u001b[39m::filter()\n",
      "\u001b[31m✖\u001b[39m \u001b[34mdplyr\u001b[39m::\u001b[32mlag()\u001b[39m    masks \u001b[34mstats\u001b[39m::lag()\n",
      "\u001b[36mℹ\u001b[39m Use the conflicted package (\u001b[3m\u001b[34m<http://conflicted.r-lib.org/>\u001b[39m\u001b[23m) to force all conflicts to become errors\n"
     ]
    },
    {
     "data": {
      "text/html": [],
      "text/latex": [],
      "text/markdown": [],
      "text/plain": [
       "character(0)"
      ]
     },
     "metadata": {},
     "output_type": "display_data"
    }
   ],
   "source": [
    "# This R environment comes with many helpful analytics packages installed\n",
    "# It is defined by the kaggle/rstats Docker image: https://github.com/kaggle/docker-rstats\n",
    "# For example, here's a helpful package to load\n",
    "\n",
    "library(tidyverse) # metapackage of all tidyverse packages\n",
    "\n",
    "# Input data files are available in the read-only \"../input/\" directory\n",
    "# For example, running this (by clicking run or pressing Shift+Enter) will list all files under the input directory\n",
    "\n",
    "list.files(path = \"../input\")\n",
    "\n",
    "# You can write up to 20GB to the current directory (/kaggle/working/) that gets preserved as output when you create a version using \"Save & Run All\" \n",
    "# You can also write temporary files to /kaggle/temp/, but they won't be saved outside of the current session"
   ]
  },
  {
   "cell_type": "code",
   "execution_count": 2,
   "id": "51ffa071",
   "metadata": {
    "_kg_hide-output": true,
    "execution": {
     "iopub.execute_input": "2024-10-18T07:29:05.765198Z",
     "iopub.status.busy": "2024-10-18T07:29:05.732012Z",
     "iopub.status.idle": "2024-10-18T07:29:06.078001Z",
     "shell.execute_reply": "2024-10-18T07:29:06.076173Z"
    },
    "papermill": {
     "duration": 0.358358,
     "end_time": "2024-10-18T07:29:06.081173",
     "exception": false,
     "start_time": "2024-10-18T07:29:05.722815",
     "status": "completed"
    },
    "tags": []
   },
   "outputs": [],
   "source": [
    "url <- 'https://dax-cdn.cdn.appdomain.cloud/dax-airline/1.0.1/lax_to_jfk.tar.gz'\n",
    "\n",
    "download.file(url, destfile = \"/kaggle/working/lax_to_jfk.tar.gz\")\n",
    "\n",
    "untar(\"lax_to_jfk.tar.gz\", exdir =\"internal\")"
   ]
  },
  {
   "cell_type": "code",
   "execution_count": 3,
   "id": "e61bfd00",
   "metadata": {
    "execution": {
     "iopub.execute_input": "2024-10-18T07:29:06.099229Z",
     "iopub.status.busy": "2024-10-18T07:29:06.097600Z",
     "iopub.status.idle": "2024-10-18T07:29:06.279222Z",
     "shell.execute_reply": "2024-10-18T07:29:06.277318Z"
    },
    "papermill": {
     "duration": 0.194,
     "end_time": "2024-10-18T07:29:06.282394",
     "exception": false,
     "start_time": "2024-10-18T07:29:06.088394",
     "status": "completed"
    },
    "tags": []
   },
   "outputs": [],
   "source": [
    "sub_airline <- read_csv(\"/kaggle/working/internal/lax_to_jfk/lax_to_jfk.csv\",\n",
    "                        col_types = cols(\n",
    "                        DivDistance = col_number(),\n",
    "                        DivArrDelay = col_number()\n",
    "                        ))"
   ]
  },
  {
   "cell_type": "code",
   "execution_count": 4,
   "id": "a79ac1da",
   "metadata": {
    "execution": {
     "iopub.execute_input": "2024-10-18T07:29:06.299961Z",
     "iopub.status.busy": "2024-10-18T07:29:06.298331Z",
     "iopub.status.idle": "2024-10-18T07:29:06.372104Z",
     "shell.execute_reply": "2024-10-18T07:29:06.369685Z"
    },
    "papermill": {
     "duration": 0.085689,
     "end_time": "2024-10-18T07:29:06.375150",
     "exception": false,
     "start_time": "2024-10-18T07:29:06.289461",
     "status": "completed"
    },
    "tags": []
   },
   "outputs": [
    {
     "data": {
      "text/html": [
       "<table class=\"dataframe\">\n",
       "<caption>A tibble: 6 × 21</caption>\n",
       "<thead>\n",
       "\t<tr><th scope=col>Month</th><th scope=col>DayOfWeek</th><th scope=col>FlightDate</th><th scope=col>Reporting_Airline</th><th scope=col>Origin</th><th scope=col>Dest</th><th scope=col>CRSDepTime</th><th scope=col>CRSArrTime</th><th scope=col>DepTime</th><th scope=col>ArrTime</th><th scope=col>⋯</th><th scope=col>ArrDelayMinutes</th><th scope=col>CarrierDelay</th><th scope=col>WeatherDelay</th><th scope=col>NASDelay</th><th scope=col>SecurityDelay</th><th scope=col>LateAircraftDelay</th><th scope=col>DepDelay</th><th scope=col>DepDelayMinutes</th><th scope=col>DivDistance</th><th scope=col>DivArrDelay</th></tr>\n",
       "\t<tr><th scope=col>&lt;dbl&gt;</th><th scope=col>&lt;dbl&gt;</th><th scope=col>&lt;date&gt;</th><th scope=col>&lt;chr&gt;</th><th scope=col>&lt;chr&gt;</th><th scope=col>&lt;chr&gt;</th><th scope=col>&lt;chr&gt;</th><th scope=col>&lt;chr&gt;</th><th scope=col>&lt;chr&gt;</th><th scope=col>&lt;chr&gt;</th><th scope=col>⋯</th><th scope=col>&lt;dbl&gt;</th><th scope=col>&lt;dbl&gt;</th><th scope=col>&lt;dbl&gt;</th><th scope=col>&lt;dbl&gt;</th><th scope=col>&lt;dbl&gt;</th><th scope=col>&lt;dbl&gt;</th><th scope=col>&lt;dbl&gt;</th><th scope=col>&lt;dbl&gt;</th><th scope=col>&lt;dbl&gt;</th><th scope=col>&lt;dbl&gt;</th></tr>\n",
       "</thead>\n",
       "<tbody>\n",
       "\t<tr><td> 3</td><td>5</td><td>2003-03-28</td><td>UA</td><td>LAX</td><td>JFK</td><td>2210</td><td>0615</td><td>2209</td><td>0617</td><td>⋯</td><td>2</td><td>NA</td><td>NA</td><td>NA</td><td>NA</td><td>NA</td><td>-1</td><td>0</td><td>NA</td><td>NA</td></tr>\n",
       "\t<tr><td>11</td><td>4</td><td>2018-11-29</td><td>AS</td><td>LAX</td><td>JFK</td><td>1045</td><td>1912</td><td>1049</td><td>1851</td><td>⋯</td><td>0</td><td>NA</td><td>NA</td><td>NA</td><td>NA</td><td>NA</td><td> 4</td><td>4</td><td>NA</td><td>NA</td></tr>\n",
       "\t<tr><td> 8</td><td>5</td><td>2015-08-28</td><td>UA</td><td>LAX</td><td>JFK</td><td>0805</td><td>1634</td><td>0757</td><td>1620</td><td>⋯</td><td>0</td><td>NA</td><td>NA</td><td>NA</td><td>NA</td><td>NA</td><td>-8</td><td>0</td><td>NA</td><td>NA</td></tr>\n",
       "\t<tr><td> 4</td><td>7</td><td>2003-04-20</td><td>DL</td><td>LAX</td><td>JFK</td><td>2205</td><td>0619</td><td>2212</td><td>0616</td><td>⋯</td><td>0</td><td>NA</td><td>NA</td><td>NA</td><td>NA</td><td>NA</td><td> 7</td><td>7</td><td>NA</td><td>NA</td></tr>\n",
       "\t<tr><td>11</td><td>3</td><td>2005-11-30</td><td>UA</td><td>LAX</td><td>JFK</td><td>0840</td><td>1653</td><td>0836</td><td>1640</td><td>⋯</td><td>0</td><td>NA</td><td>NA</td><td>NA</td><td>NA</td><td>NA</td><td>-4</td><td>0</td><td>NA</td><td>NA</td></tr>\n",
       "\t<tr><td> 4</td><td>1</td><td>1992-04-06</td><td>UA</td><td>LAX</td><td>JFK</td><td>1450</td><td>2308</td><td>1452</td><td>2248</td><td>⋯</td><td>0</td><td>NA</td><td>NA</td><td>NA</td><td>NA</td><td>NA</td><td> 2</td><td>2</td><td>NA</td><td>NA</td></tr>\n",
       "</tbody>\n",
       "</table>\n"
      ],
      "text/latex": [
       "A tibble: 6 × 21\n",
       "\\begin{tabular}{lllllllllllllllllllll}\n",
       " Month & DayOfWeek & FlightDate & Reporting\\_Airline & Origin & Dest & CRSDepTime & CRSArrTime & DepTime & ArrTime & ⋯ & ArrDelayMinutes & CarrierDelay & WeatherDelay & NASDelay & SecurityDelay & LateAircraftDelay & DepDelay & DepDelayMinutes & DivDistance & DivArrDelay\\\\\n",
       " <dbl> & <dbl> & <date> & <chr> & <chr> & <chr> & <chr> & <chr> & <chr> & <chr> & ⋯ & <dbl> & <dbl> & <dbl> & <dbl> & <dbl> & <dbl> & <dbl> & <dbl> & <dbl> & <dbl>\\\\\n",
       "\\hline\n",
       "\t  3 & 5 & 2003-03-28 & UA & LAX & JFK & 2210 & 0615 & 2209 & 0617 & ⋯ & 2 & NA & NA & NA & NA & NA & -1 & 0 & NA & NA\\\\\n",
       "\t 11 & 4 & 2018-11-29 & AS & LAX & JFK & 1045 & 1912 & 1049 & 1851 & ⋯ & 0 & NA & NA & NA & NA & NA &  4 & 4 & NA & NA\\\\\n",
       "\t  8 & 5 & 2015-08-28 & UA & LAX & JFK & 0805 & 1634 & 0757 & 1620 & ⋯ & 0 & NA & NA & NA & NA & NA & -8 & 0 & NA & NA\\\\\n",
       "\t  4 & 7 & 2003-04-20 & DL & LAX & JFK & 2205 & 0619 & 2212 & 0616 & ⋯ & 0 & NA & NA & NA & NA & NA &  7 & 7 & NA & NA\\\\\n",
       "\t 11 & 3 & 2005-11-30 & UA & LAX & JFK & 0840 & 1653 & 0836 & 1640 & ⋯ & 0 & NA & NA & NA & NA & NA & -4 & 0 & NA & NA\\\\\n",
       "\t  4 & 1 & 1992-04-06 & UA & LAX & JFK & 1450 & 2308 & 1452 & 2248 & ⋯ & 0 & NA & NA & NA & NA & NA &  2 & 2 & NA & NA\\\\\n",
       "\\end{tabular}\n"
      ],
      "text/markdown": [
       "\n",
       "A tibble: 6 × 21\n",
       "\n",
       "| Month &lt;dbl&gt; | DayOfWeek &lt;dbl&gt; | FlightDate &lt;date&gt; | Reporting_Airline &lt;chr&gt; | Origin &lt;chr&gt; | Dest &lt;chr&gt; | CRSDepTime &lt;chr&gt; | CRSArrTime &lt;chr&gt; | DepTime &lt;chr&gt; | ArrTime &lt;chr&gt; | ⋯ ⋯ | ArrDelayMinutes &lt;dbl&gt; | CarrierDelay &lt;dbl&gt; | WeatherDelay &lt;dbl&gt; | NASDelay &lt;dbl&gt; | SecurityDelay &lt;dbl&gt; | LateAircraftDelay &lt;dbl&gt; | DepDelay &lt;dbl&gt; | DepDelayMinutes &lt;dbl&gt; | DivDistance &lt;dbl&gt; | DivArrDelay &lt;dbl&gt; |\n",
       "|---|---|---|---|---|---|---|---|---|---|---|---|---|---|---|---|---|---|---|---|---|\n",
       "|  3 | 5 | 2003-03-28 | UA | LAX | JFK | 2210 | 0615 | 2209 | 0617 | ⋯ | 2 | NA | NA | NA | NA | NA | -1 | 0 | NA | NA |\n",
       "| 11 | 4 | 2018-11-29 | AS | LAX | JFK | 1045 | 1912 | 1049 | 1851 | ⋯ | 0 | NA | NA | NA | NA | NA |  4 | 4 | NA | NA |\n",
       "|  8 | 5 | 2015-08-28 | UA | LAX | JFK | 0805 | 1634 | 0757 | 1620 | ⋯ | 0 | NA | NA | NA | NA | NA | -8 | 0 | NA | NA |\n",
       "|  4 | 7 | 2003-04-20 | DL | LAX | JFK | 2205 | 0619 | 2212 | 0616 | ⋯ | 0 | NA | NA | NA | NA | NA |  7 | 7 | NA | NA |\n",
       "| 11 | 3 | 2005-11-30 | UA | LAX | JFK | 0840 | 1653 | 0836 | 1640 | ⋯ | 0 | NA | NA | NA | NA | NA | -4 | 0 | NA | NA |\n",
       "|  4 | 1 | 1992-04-06 | UA | LAX | JFK | 1450 | 2308 | 1452 | 2248 | ⋯ | 0 | NA | NA | NA | NA | NA |  2 | 2 | NA | NA |\n",
       "\n"
      ],
      "text/plain": [
       "  Month DayOfWeek FlightDate Reporting_Airline Origin Dest CRSDepTime\n",
       "1  3    5         2003-03-28 UA                LAX    JFK  2210      \n",
       "2 11    4         2018-11-29 AS                LAX    JFK  1045      \n",
       "3  8    5         2015-08-28 UA                LAX    JFK  0805      \n",
       "4  4    7         2003-04-20 DL                LAX    JFK  2205      \n",
       "5 11    3         2005-11-30 UA                LAX    JFK  0840      \n",
       "6  4    1         1992-04-06 UA                LAX    JFK  1450      \n",
       "  CRSArrTime DepTime ArrTime ⋯ ArrDelayMinutes CarrierDelay WeatherDelay\n",
       "1 0615       2209    0617    ⋯ 2               NA           NA          \n",
       "2 1912       1049    1851    ⋯ 0               NA           NA          \n",
       "3 1634       0757    1620    ⋯ 0               NA           NA          \n",
       "4 0619       2212    0616    ⋯ 0               NA           NA          \n",
       "5 1653       0836    1640    ⋯ 0               NA           NA          \n",
       "6 2308       1452    2248    ⋯ 0               NA           NA          \n",
       "  NASDelay SecurityDelay LateAircraftDelay DepDelay DepDelayMinutes DivDistance\n",
       "1 NA       NA            NA                -1       0               NA         \n",
       "2 NA       NA            NA                 4       4               NA         \n",
       "3 NA       NA            NA                -8       0               NA         \n",
       "4 NA       NA            NA                 7       7               NA         \n",
       "5 NA       NA            NA                -4       0               NA         \n",
       "6 NA       NA            NA                 2       2               NA         \n",
       "  DivArrDelay\n",
       "1 NA         \n",
       "2 NA         \n",
       "3 NA         \n",
       "4 NA         \n",
       "5 NA         \n",
       "6 NA         "
      ]
     },
     "metadata": {},
     "output_type": "display_data"
    },
    {
     "data": {
      "text/html": [
       "<style>\n",
       ".list-inline {list-style: none; margin:0; padding: 0}\n",
       ".list-inline>li {display: inline-block}\n",
       ".list-inline>li:not(:last-child)::after {content: \"\\00b7\"; padding: 0 .5ex}\n",
       "</style>\n",
       "<ol class=list-inline><li>2855</li><li>21</li></ol>\n"
      ],
      "text/latex": [
       "\\begin{enumerate*}\n",
       "\\item 2855\n",
       "\\item 21\n",
       "\\end{enumerate*}\n"
      ],
      "text/markdown": [
       "1. 2855\n",
       "2. 21\n",
       "\n",
       "\n"
      ],
      "text/plain": [
       "[1] 2855   21"
      ]
     },
     "metadata": {},
     "output_type": "display_data"
    }
   ],
   "source": [
    "head(sub_airline)\n",
    "dim(sub_airline)"
   ]
  },
  {
   "cell_type": "code",
   "execution_count": 5,
   "id": "882f2d66",
   "metadata": {
    "execution": {
     "iopub.execute_input": "2024-10-18T07:29:06.394777Z",
     "iopub.status.busy": "2024-10-18T07:29:06.393129Z",
     "iopub.status.idle": "2024-10-18T07:29:06.421099Z",
     "shell.execute_reply": "2024-10-18T07:29:06.418722Z"
    },
    "papermill": {
     "duration": 0.040603,
     "end_time": "2024-10-18T07:29:06.423975",
     "exception": false,
     "start_time": "2024-10-18T07:29:06.383372",
     "status": "completed"
    },
    "tags": []
   },
   "outputs": [
    {
     "data": {
      "text/html": [
       "<dl>\n",
       "\t<dt>$Month</dt>\n",
       "\t\t<dd>0</dd>\n",
       "\t<dt>$DayOfWeek</dt>\n",
       "\t\t<dd>0</dd>\n",
       "\t<dt>$FlightDate</dt>\n",
       "\t\t<dd>0</dd>\n",
       "\t<dt>$Reporting_Airline</dt>\n",
       "\t\t<dd>0</dd>\n",
       "\t<dt>$Origin</dt>\n",
       "\t\t<dd>0</dd>\n",
       "\t<dt>$Dest</dt>\n",
       "\t\t<dd>0</dd>\n",
       "\t<dt>$CRSDepTime</dt>\n",
       "\t\t<dd>0</dd>\n",
       "\t<dt>$CRSArrTime</dt>\n",
       "\t\t<dd>0</dd>\n",
       "\t<dt>$DepTime</dt>\n",
       "\t\t<dd>0</dd>\n",
       "\t<dt>$ArrTime</dt>\n",
       "\t\t<dd>0</dd>\n",
       "\t<dt>$ArrDelay</dt>\n",
       "\t\t<dd>0</dd>\n",
       "\t<dt>$ArrDelayMinutes</dt>\n",
       "\t\t<dd>0</dd>\n",
       "\t<dt>$CarrierDelay</dt>\n",
       "\t\t<dd>2486</dd>\n",
       "\t<dt>$WeatherDelay</dt>\n",
       "\t\t<dd>2486</dd>\n",
       "\t<dt>$NASDelay</dt>\n",
       "\t\t<dd>2486</dd>\n",
       "\t<dt>$SecurityDelay</dt>\n",
       "\t\t<dd>2486</dd>\n",
       "\t<dt>$LateAircraftDelay</dt>\n",
       "\t\t<dd>2486</dd>\n",
       "\t<dt>$DepDelay</dt>\n",
       "\t\t<dd>0</dd>\n",
       "\t<dt>$DepDelayMinutes</dt>\n",
       "\t\t<dd>0</dd>\n",
       "\t<dt>$DivDistance</dt>\n",
       "\t\t<dd>2855</dd>\n",
       "\t<dt>$DivArrDelay</dt>\n",
       "\t\t<dd>2855</dd>\n",
       "</dl>\n"
      ],
      "text/latex": [
       "\\begin{description}\n",
       "\\item[\\$Month] 0\n",
       "\\item[\\$DayOfWeek] 0\n",
       "\\item[\\$FlightDate] 0\n",
       "\\item[\\$Reporting\\_Airline] 0\n",
       "\\item[\\$Origin] 0\n",
       "\\item[\\$Dest] 0\n",
       "\\item[\\$CRSDepTime] 0\n",
       "\\item[\\$CRSArrTime] 0\n",
       "\\item[\\$DepTime] 0\n",
       "\\item[\\$ArrTime] 0\n",
       "\\item[\\$ArrDelay] 0\n",
       "\\item[\\$ArrDelayMinutes] 0\n",
       "\\item[\\$CarrierDelay] 2486\n",
       "\\item[\\$WeatherDelay] 2486\n",
       "\\item[\\$NASDelay] 2486\n",
       "\\item[\\$SecurityDelay] 2486\n",
       "\\item[\\$LateAircraftDelay] 2486\n",
       "\\item[\\$DepDelay] 0\n",
       "\\item[\\$DepDelayMinutes] 0\n",
       "\\item[\\$DivDistance] 2855\n",
       "\\item[\\$DivArrDelay] 2855\n",
       "\\end{description}\n"
      ],
      "text/markdown": [
       "$Month\n",
       ":   0\n",
       "$DayOfWeek\n",
       ":   0\n",
       "$FlightDate\n",
       ":   0\n",
       "$Reporting_Airline\n",
       ":   0\n",
       "$Origin\n",
       ":   0\n",
       "$Dest\n",
       ":   0\n",
       "$CRSDepTime\n",
       ":   0\n",
       "$CRSArrTime\n",
       ":   0\n",
       "$DepTime\n",
       ":   0\n",
       "$ArrTime\n",
       ":   0\n",
       "$ArrDelay\n",
       ":   0\n",
       "$ArrDelayMinutes\n",
       ":   0\n",
       "$CarrierDelay\n",
       ":   2486\n",
       "$WeatherDelay\n",
       ":   2486\n",
       "$NASDelay\n",
       ":   2486\n",
       "$SecurityDelay\n",
       ":   2486\n",
       "$LateAircraftDelay\n",
       ":   2486\n",
       "$DepDelay\n",
       ":   0\n",
       "$DepDelayMinutes\n",
       ":   0\n",
       "$DivDistance\n",
       ":   2855\n",
       "$DivArrDelay\n",
       ":   2855\n",
       "\n",
       "\n"
      ],
      "text/plain": [
       "$Month\n",
       "[1] 0\n",
       "\n",
       "$DayOfWeek\n",
       "[1] 0\n",
       "\n",
       "$FlightDate\n",
       "[1] 0\n",
       "\n",
       "$Reporting_Airline\n",
       "[1] 0\n",
       "\n",
       "$Origin\n",
       "[1] 0\n",
       "\n",
       "$Dest\n",
       "[1] 0\n",
       "\n",
       "$CRSDepTime\n",
       "[1] 0\n",
       "\n",
       "$CRSArrTime\n",
       "[1] 0\n",
       "\n",
       "$DepTime\n",
       "[1] 0\n",
       "\n",
       "$ArrTime\n",
       "[1] 0\n",
       "\n",
       "$ArrDelay\n",
       "[1] 0\n",
       "\n",
       "$ArrDelayMinutes\n",
       "[1] 0\n",
       "\n",
       "$CarrierDelay\n",
       "[1] 2486\n",
       "\n",
       "$WeatherDelay\n",
       "[1] 2486\n",
       "\n",
       "$NASDelay\n",
       "[1] 2486\n",
       "\n",
       "$SecurityDelay\n",
       "[1] 2486\n",
       "\n",
       "$LateAircraftDelay\n",
       "[1] 2486\n",
       "\n",
       "$DepDelay\n",
       "[1] 0\n",
       "\n",
       "$DepDelayMinutes\n",
       "[1] 0\n",
       "\n",
       "$DivDistance\n",
       "[1] 2855\n",
       "\n",
       "$DivArrDelay\n",
       "[1] 2855\n"
      ]
     },
     "metadata": {},
     "output_type": "display_data"
    }
   ],
   "source": [
    "map(sub_airline, ~sum(is.na(.)))"
   ]
  },
  {
   "cell_type": "markdown",
   "id": "e5d343ff",
   "metadata": {
    "papermill": {
     "duration": 0.008243,
     "end_time": "2024-10-18T07:29:06.440059",
     "exception": false,
     "start_time": "2024-10-18T07:29:06.431816",
     "status": "completed"
    },
    "tags": []
   },
   "source": [
    "#### a.  Remove rows with missing values in specific columns"
   ]
  },
  {
   "cell_type": "code",
   "execution_count": 6,
   "id": "1a50927a",
   "metadata": {
    "execution": {
     "iopub.execute_input": "2024-10-18T07:29:06.459802Z",
     "iopub.status.busy": "2024-10-18T07:29:06.458174Z",
     "iopub.status.idle": "2024-10-18T07:29:06.480320Z",
     "shell.execute_reply": "2024-10-18T07:29:06.478496Z"
    },
    "papermill": {
     "duration": 0.035706,
     "end_time": "2024-10-18T07:29:06.483496",
     "exception": false,
     "start_time": "2024-10-18T07:29:06.447790",
     "status": "completed"
    },
    "tags": []
   },
   "outputs": [],
   "source": [
    "drop_na_columns <- sub_airline %>% select(-DivDistance, -DivArrDelay)"
   ]
  },
  {
   "cell_type": "code",
   "execution_count": 7,
   "id": "d90ab350",
   "metadata": {
    "execution": {
     "iopub.execute_input": "2024-10-18T07:29:06.502662Z",
     "iopub.status.busy": "2024-10-18T07:29:06.501094Z",
     "iopub.status.idle": "2024-10-18T07:29:06.564014Z",
     "shell.execute_reply": "2024-10-18T07:29:06.561265Z"
    },
    "papermill": {
     "duration": 0.075843,
     "end_time": "2024-10-18T07:29:06.567077",
     "exception": false,
     "start_time": "2024-10-18T07:29:06.491234",
     "status": "completed"
    },
    "tags": []
   },
   "outputs": [
    {
     "data": {
      "text/html": [
       "<style>\n",
       ".list-inline {list-style: none; margin:0; padding: 0}\n",
       ".list-inline>li {display: inline-block}\n",
       ".list-inline>li:not(:last-child)::after {content: \"\\00b7\"; padding: 0 .5ex}\n",
       "</style>\n",
       "<ol class=list-inline><li>369</li><li>19</li></ol>\n"
      ],
      "text/latex": [
       "\\begin{enumerate*}\n",
       "\\item 369\n",
       "\\item 19\n",
       "\\end{enumerate*}\n"
      ],
      "text/markdown": [
       "1. 369\n",
       "2. 19\n",
       "\n",
       "\n"
      ],
      "text/plain": [
       "[1] 369  19"
      ]
     },
     "metadata": {},
     "output_type": "display_data"
    },
    {
     "data": {
      "text/html": [
       "<table class=\"dataframe\">\n",
       "<caption>A tibble: 6 × 19</caption>\n",
       "<thead>\n",
       "\t<tr><th scope=col>Month</th><th scope=col>DayOfWeek</th><th scope=col>FlightDate</th><th scope=col>Reporting_Airline</th><th scope=col>Origin</th><th scope=col>Dest</th><th scope=col>CRSDepTime</th><th scope=col>CRSArrTime</th><th scope=col>DepTime</th><th scope=col>ArrTime</th><th scope=col>ArrDelay</th><th scope=col>ArrDelayMinutes</th><th scope=col>CarrierDelay</th><th scope=col>WeatherDelay</th><th scope=col>NASDelay</th><th scope=col>SecurityDelay</th><th scope=col>LateAircraftDelay</th><th scope=col>DepDelay</th><th scope=col>DepDelayMinutes</th></tr>\n",
       "\t<tr><th scope=col>&lt;dbl&gt;</th><th scope=col>&lt;dbl&gt;</th><th scope=col>&lt;date&gt;</th><th scope=col>&lt;chr&gt;</th><th scope=col>&lt;chr&gt;</th><th scope=col>&lt;chr&gt;</th><th scope=col>&lt;chr&gt;</th><th scope=col>&lt;chr&gt;</th><th scope=col>&lt;chr&gt;</th><th scope=col>&lt;chr&gt;</th><th scope=col>&lt;dbl&gt;</th><th scope=col>&lt;dbl&gt;</th><th scope=col>&lt;dbl&gt;</th><th scope=col>&lt;dbl&gt;</th><th scope=col>&lt;dbl&gt;</th><th scope=col>&lt;dbl&gt;</th><th scope=col>&lt;dbl&gt;</th><th scope=col>&lt;dbl&gt;</th><th scope=col>&lt;dbl&gt;</th></tr>\n",
       "</thead>\n",
       "<tbody>\n",
       "\t<tr><td> 8</td><td>5</td><td>2018-08-03</td><td>B6</td><td>LAX</td><td>JFK</td><td>0013</td><td>0839</td><td>0034</td><td>0913</td><td>34</td><td>34</td><td>11</td><td>0</td><td>23</td><td>0</td><td> 0</td><td>21</td><td>21</td></tr>\n",
       "\t<tr><td> 6</td><td>4</td><td>2006-06-01</td><td>AA</td><td>LAX</td><td>JFK</td><td>1515</td><td>2332</td><td>1507</td><td>2353</td><td>21</td><td>21</td><td> 0</td><td>0</td><td>21</td><td>0</td><td> 0</td><td>-8</td><td> 0</td></tr>\n",
       "\t<tr><td> 1</td><td>7</td><td>2007-01-28</td><td>UA</td><td>LAX</td><td>JFK</td><td>0845</td><td>1656</td><td>0838</td><td>1713</td><td>17</td><td>17</td><td> 0</td><td>0</td><td>17</td><td>0</td><td> 0</td><td>-7</td><td> 0</td></tr>\n",
       "\t<tr><td> 6</td><td>5</td><td>2013-06-28</td><td>AA</td><td>LAX</td><td>JFK</td><td>1200</td><td>2045</td><td>1328</td><td>2220</td><td>95</td><td>95</td><td> 5</td><td>0</td><td> 7</td><td>0</td><td>83</td><td>88</td><td>88</td></tr>\n",
       "\t<tr><td> 9</td><td>1</td><td>2010-09-27</td><td>DL</td><td>LAX</td><td>JFK</td><td>1330</td><td>2208</td><td>1426</td><td>2316</td><td>68</td><td>68</td><td> 0</td><td>0</td><td>68</td><td>0</td><td> 0</td><td>56</td><td>56</td></tr>\n",
       "\t<tr><td>10</td><td>3</td><td>2005-10-12</td><td>AA</td><td>LAX</td><td>JFK</td><td>0930</td><td>1755</td><td>0958</td><td>1823</td><td>28</td><td>28</td><td> 0</td><td>0</td><td>28</td><td>0</td><td> 0</td><td>28</td><td>28</td></tr>\n",
       "</tbody>\n",
       "</table>\n"
      ],
      "text/latex": [
       "A tibble: 6 × 19\n",
       "\\begin{tabular}{lllllllllllllllllll}\n",
       " Month & DayOfWeek & FlightDate & Reporting\\_Airline & Origin & Dest & CRSDepTime & CRSArrTime & DepTime & ArrTime & ArrDelay & ArrDelayMinutes & CarrierDelay & WeatherDelay & NASDelay & SecurityDelay & LateAircraftDelay & DepDelay & DepDelayMinutes\\\\\n",
       " <dbl> & <dbl> & <date> & <chr> & <chr> & <chr> & <chr> & <chr> & <chr> & <chr> & <dbl> & <dbl> & <dbl> & <dbl> & <dbl> & <dbl> & <dbl> & <dbl> & <dbl>\\\\\n",
       "\\hline\n",
       "\t  8 & 5 & 2018-08-03 & B6 & LAX & JFK & 0013 & 0839 & 0034 & 0913 & 34 & 34 & 11 & 0 & 23 & 0 &  0 & 21 & 21\\\\\n",
       "\t  6 & 4 & 2006-06-01 & AA & LAX & JFK & 1515 & 2332 & 1507 & 2353 & 21 & 21 &  0 & 0 & 21 & 0 &  0 & -8 &  0\\\\\n",
       "\t  1 & 7 & 2007-01-28 & UA & LAX & JFK & 0845 & 1656 & 0838 & 1713 & 17 & 17 &  0 & 0 & 17 & 0 &  0 & -7 &  0\\\\\n",
       "\t  6 & 5 & 2013-06-28 & AA & LAX & JFK & 1200 & 2045 & 1328 & 2220 & 95 & 95 &  5 & 0 &  7 & 0 & 83 & 88 & 88\\\\\n",
       "\t  9 & 1 & 2010-09-27 & DL & LAX & JFK & 1330 & 2208 & 1426 & 2316 & 68 & 68 &  0 & 0 & 68 & 0 &  0 & 56 & 56\\\\\n",
       "\t 10 & 3 & 2005-10-12 & AA & LAX & JFK & 0930 & 1755 & 0958 & 1823 & 28 & 28 &  0 & 0 & 28 & 0 &  0 & 28 & 28\\\\\n",
       "\\end{tabular}\n"
      ],
      "text/markdown": [
       "\n",
       "A tibble: 6 × 19\n",
       "\n",
       "| Month &lt;dbl&gt; | DayOfWeek &lt;dbl&gt; | FlightDate &lt;date&gt; | Reporting_Airline &lt;chr&gt; | Origin &lt;chr&gt; | Dest &lt;chr&gt; | CRSDepTime &lt;chr&gt; | CRSArrTime &lt;chr&gt; | DepTime &lt;chr&gt; | ArrTime &lt;chr&gt; | ArrDelay &lt;dbl&gt; | ArrDelayMinutes &lt;dbl&gt; | CarrierDelay &lt;dbl&gt; | WeatherDelay &lt;dbl&gt; | NASDelay &lt;dbl&gt; | SecurityDelay &lt;dbl&gt; | LateAircraftDelay &lt;dbl&gt; | DepDelay &lt;dbl&gt; | DepDelayMinutes &lt;dbl&gt; |\n",
       "|---|---|---|---|---|---|---|---|---|---|---|---|---|---|---|---|---|---|---|\n",
       "|  8 | 5 | 2018-08-03 | B6 | LAX | JFK | 0013 | 0839 | 0034 | 0913 | 34 | 34 | 11 | 0 | 23 | 0 |  0 | 21 | 21 |\n",
       "|  6 | 4 | 2006-06-01 | AA | LAX | JFK | 1515 | 2332 | 1507 | 2353 | 21 | 21 |  0 | 0 | 21 | 0 |  0 | -8 |  0 |\n",
       "|  1 | 7 | 2007-01-28 | UA | LAX | JFK | 0845 | 1656 | 0838 | 1713 | 17 | 17 |  0 | 0 | 17 | 0 |  0 | -7 |  0 |\n",
       "|  6 | 5 | 2013-06-28 | AA | LAX | JFK | 1200 | 2045 | 1328 | 2220 | 95 | 95 |  5 | 0 |  7 | 0 | 83 | 88 | 88 |\n",
       "|  9 | 1 | 2010-09-27 | DL | LAX | JFK | 1330 | 2208 | 1426 | 2316 | 68 | 68 |  0 | 0 | 68 | 0 |  0 | 56 | 56 |\n",
       "| 10 | 3 | 2005-10-12 | AA | LAX | JFK | 0930 | 1755 | 0958 | 1823 | 28 | 28 |  0 | 0 | 28 | 0 |  0 | 28 | 28 |\n",
       "\n"
      ],
      "text/plain": [
       "  Month DayOfWeek FlightDate Reporting_Airline Origin Dest CRSDepTime\n",
       "1  8    5         2018-08-03 B6                LAX    JFK  0013      \n",
       "2  6    4         2006-06-01 AA                LAX    JFK  1515      \n",
       "3  1    7         2007-01-28 UA                LAX    JFK  0845      \n",
       "4  6    5         2013-06-28 AA                LAX    JFK  1200      \n",
       "5  9    1         2010-09-27 DL                LAX    JFK  1330      \n",
       "6 10    3         2005-10-12 AA                LAX    JFK  0930      \n",
       "  CRSArrTime DepTime ArrTime ArrDelay ArrDelayMinutes CarrierDelay WeatherDelay\n",
       "1 0839       0034    0913    34       34              11           0           \n",
       "2 2332       1507    2353    21       21               0           0           \n",
       "3 1656       0838    1713    17       17               0           0           \n",
       "4 2045       1328    2220    95       95               5           0           \n",
       "5 2208       1426    2316    68       68               0           0           \n",
       "6 1755       0958    1823    28       28               0           0           \n",
       "  NASDelay SecurityDelay LateAircraftDelay DepDelay DepDelayMinutes\n",
       "1 23       0              0                21       21             \n",
       "2 21       0              0                -8        0             \n",
       "3 17       0              0                -7        0             \n",
       "4  7       0             83                88       88             \n",
       "5 68       0              0                56       56             \n",
       "6 28       0              0                28       28             "
      ]
     },
     "metadata": {},
     "output_type": "display_data"
    }
   ],
   "source": [
    "drop_na_rows <- drop_na_columns %>% drop_na(CarrierDelay)\n",
    "\n",
    "dim(drop_na_rows)\n",
    "head(drop_na_rows)"
   ]
  },
  {
   "cell_type": "markdown",
   "id": "ea8f9288",
   "metadata": {
    "papermill": {
     "duration": 0.008254,
     "end_time": "2024-10-18T07:29:06.583657",
     "exception": false,
     "start_time": "2024-10-18T07:29:06.575403",
     "status": "completed"
    },
    "tags": []
   },
   "source": [
    "#### b. Replace missing values with appropriate measures (e.g., mean, median)"
   ]
  },
  {
   "cell_type": "code",
   "execution_count": 8,
   "id": "1a787c92",
   "metadata": {
    "execution": {
     "iopub.execute_input": "2024-10-18T07:29:06.604386Z",
     "iopub.status.busy": "2024-10-18T07:29:06.602756Z",
     "iopub.status.idle": "2024-10-18T07:29:06.630336Z",
     "shell.execute_reply": "2024-10-18T07:29:06.628575Z"
    },
    "papermill": {
     "duration": 0.041613,
     "end_time": "2024-10-18T07:29:06.633438",
     "exception": false,
     "start_time": "2024-10-18T07:29:06.591825",
     "status": "completed"
    },
    "tags": []
   },
   "outputs": [],
   "source": [
    "meanC = mean(sub_airline$CarrierDelay, na.rm=TRUE)\n",
    "meanW = mean(sub_airline$WeatherDelay,na.rm=TRUE)\n",
    "meanN = mean(sub_airline$NASDelay,na.rm=TRUE)\n",
    "meanS = mean(sub_airline$SecurityDelay,na.rm=TRUE)\n",
    "meanL = mean(sub_airline$LateAircraftDelay,na.rm=TRUE)\n",
    "\n",
    "sub_airline <- sub_airline %>% replace_na(list(CarrierDelay=meanC,\n",
    "                                                  WeatherDelay=meanW,\n",
    "                                                  NASDelay=meanN,\n",
    "                                                  SecurityDelay=meanS,\n",
    "                                                  LateAircraftDelay=meanL))\n"
   ]
  },
  {
   "cell_type": "code",
   "execution_count": 9,
   "id": "e624ff51",
   "metadata": {
    "execution": {
     "iopub.execute_input": "2024-10-18T07:29:06.653663Z",
     "iopub.status.busy": "2024-10-18T07:29:06.652046Z",
     "iopub.status.idle": "2024-10-18T07:29:06.692896Z",
     "shell.execute_reply": "2024-10-18T07:29:06.690528Z"
    },
    "papermill": {
     "duration": 0.054077,
     "end_time": "2024-10-18T07:29:06.695761",
     "exception": false,
     "start_time": "2024-10-18T07:29:06.641684",
     "status": "completed"
    },
    "tags": []
   },
   "outputs": [
    {
     "data": {
      "text/html": [
       "<style>\n",
       ".list-inline {list-style: none; margin:0; padding: 0}\n",
       ".list-inline>li {display: inline-block}\n",
       ".list-inline>li:not(:last-child)::after {content: \"\\00b7\"; padding: 0 .5ex}\n",
       "</style>\n",
       "<ol class=list-inline><li>2855</li><li>21</li></ol>\n"
      ],
      "text/latex": [
       "\\begin{enumerate*}\n",
       "\\item 2855\n",
       "\\item 21\n",
       "\\end{enumerate*}\n"
      ],
      "text/markdown": [
       "1. 2855\n",
       "2. 21\n",
       "\n",
       "\n"
      ],
      "text/plain": [
       "[1] 2855   21"
      ]
     },
     "metadata": {},
     "output_type": "display_data"
    }
   ],
   "source": [
    "dim(sub_airline)"
   ]
  },
  {
   "cell_type": "markdown",
   "id": "134b7761",
   "metadata": {
    "papermill": {
     "duration": 0.008375,
     "end_time": "2024-10-18T07:29:06.712601",
     "exception": false,
     "start_time": "2024-10-18T07:29:06.704226",
     "status": "completed"
    },
    "tags": []
   },
   "source": [
    "### Student Evaluation and Comments\n",
    "After completing Task 1, evaluate your approach:\n",
    "\n",
    "<h3> Which columns had the most missing values? </h3>\n",
    "DivDistance (2855) and DivArrDelay (2855) have the most missing value.\n",
    "<h3>What were the pros and cons of each missing value strategy you implemented? </h3>\n",
    "Replacing NA with the mean is fast and useful for normally distributed data but can introduce bias and reduce variability in complex datasets.\n",
    "<h3>How did the dimensions of the dataset change after handling missing values?</h3>\n",
    "2855.19"
   ]
  },
  {
   "cell_type": "markdown",
   "id": "054bc033",
   "metadata": {
    "papermill": {
     "duration": 0.009045,
     "end_time": "2024-10-18T07:29:06.729966",
     "exception": false,
     "start_time": "2024-10-18T07:29:06.720921",
     "status": "completed"
    },
    "tags": []
   },
   "source": [
    "## Task 2: Data Normalization (25 points)\n"
   ]
  },
  {
   "cell_type": "markdown",
   "id": "eda9ca17",
   "metadata": {
    "papermill": {
     "duration": 0.008353,
     "end_time": "2024-10-18T07:29:06.746670",
     "exception": false,
     "start_time": "2024-10-18T07:29:06.738317",
     "status": "completed"
    },
    "tags": []
   },
   "source": [
    "Implement three different normalization techniques on the \"ArrDelay\" and \"DepDelay\" columns: a. Simple scaling b. Min-Max scaling c. Z-score standardization"
   ]
  },
  {
   "cell_type": "code",
   "execution_count": 10,
   "id": "12396287",
   "metadata": {
    "execution": {
     "iopub.execute_input": "2024-10-18T07:29:06.767087Z",
     "iopub.status.busy": "2024-10-18T07:29:06.765503Z",
     "iopub.status.idle": "2024-10-18T07:29:06.791776Z",
     "shell.execute_reply": "2024-10-18T07:29:06.790034Z"
    },
    "papermill": {
     "duration": 0.039084,
     "end_time": "2024-10-18T07:29:06.794220",
     "exception": false,
     "start_time": "2024-10-18T07:29:06.755136",
     "status": "completed"
    },
    "tags": []
   },
   "outputs": [],
   "source": [
    "# MIN-MAX SCALLING \n",
    "sub_airline <- sub_airline %>%\n",
    "   mutate(ArrScaled = (ArrDelay - min(ArrDelay, na.rm=TRUE)) / (max(ArrDelay,na.rm=TRUE) - min(ArrDelay,na.rm=TRUE)))# mutate: create a modify columns within a dataframe\n",
    "\n",
    "sub_airline <- sub_airline %>%\n",
    "   mutate(DepScaled = (DepDelay - min(DepDelay, na.rm=TRUE)) / (max(DepDelay,na.rm=TRUE) - min(DepDelay,na.rm=TRUE)))"
   ]
  },
  {
   "cell_type": "code",
   "execution_count": 11,
   "id": "f36e68d3",
   "metadata": {
    "execution": {
     "iopub.execute_input": "2024-10-18T07:29:06.814567Z",
     "iopub.status.busy": "2024-10-18T07:29:06.812937Z",
     "iopub.status.idle": "2024-10-18T07:29:06.834214Z",
     "shell.execute_reply": "2024-10-18T07:29:06.832425Z"
    },
    "papermill": {
     "duration": 0.034273,
     "end_time": "2024-10-18T07:29:06.836726",
     "exception": false,
     "start_time": "2024-10-18T07:29:06.802453",
     "status": "completed"
    },
    "tags": []
   },
   "outputs": [],
   "source": [
    "# Z-SCORE\n",
    "sub_airline <- sub_airline %>%\n",
    "  mutate(zs_ArrDelay = ((ArrDelay - mean(ArrDelay,na.rm=TRUE))/sd(ArrDelay, na.rm=TRUE)))\n",
    "\n",
    "sub_airline <- sub_airline %>%\n",
    "  mutate(zs_DepDelay = ((DepDelay - mean(DepDelay,na.rm=TRUE))/sd(DepDelay, na.rm=TRUE)))"
   ]
  },
  {
   "cell_type": "code",
   "execution_count": 12,
   "id": "758ca483",
   "metadata": {
    "execution": {
     "iopub.execute_input": "2024-10-18T07:29:06.857094Z",
     "iopub.status.busy": "2024-10-18T07:29:06.855477Z",
     "iopub.status.idle": "2024-10-18T07:29:06.910261Z",
     "shell.execute_reply": "2024-10-18T07:29:06.908463Z"
    },
    "papermill": {
     "duration": 0.067535,
     "end_time": "2024-10-18T07:29:06.912653",
     "exception": false,
     "start_time": "2024-10-18T07:29:06.845118",
     "status": "completed"
    },
    "tags": []
   },
   "outputs": [
    {
     "data": {
      "text/html": [
       "<table class=\"dataframe\">\n",
       "<caption>A tibble: 6 × 25</caption>\n",
       "<thead>\n",
       "\t<tr><th scope=col>Month</th><th scope=col>DayOfWeek</th><th scope=col>FlightDate</th><th scope=col>Reporting_Airline</th><th scope=col>Origin</th><th scope=col>Dest</th><th scope=col>CRSDepTime</th><th scope=col>CRSArrTime</th><th scope=col>DepTime</th><th scope=col>ArrTime</th><th scope=col>⋯</th><th scope=col>SecurityDelay</th><th scope=col>LateAircraftDelay</th><th scope=col>DepDelay</th><th scope=col>DepDelayMinutes</th><th scope=col>DivDistance</th><th scope=col>DivArrDelay</th><th scope=col>ArrScaled</th><th scope=col>DepScaled</th><th scope=col>zs_ArrDelay</th><th scope=col>zs_DepDelay</th></tr>\n",
       "\t<tr><th scope=col>&lt;dbl&gt;</th><th scope=col>&lt;dbl&gt;</th><th scope=col>&lt;date&gt;</th><th scope=col>&lt;chr&gt;</th><th scope=col>&lt;chr&gt;</th><th scope=col>&lt;chr&gt;</th><th scope=col>&lt;chr&gt;</th><th scope=col>&lt;chr&gt;</th><th scope=col>&lt;chr&gt;</th><th scope=col>&lt;chr&gt;</th><th scope=col>⋯</th><th scope=col>&lt;dbl&gt;</th><th scope=col>&lt;dbl&gt;</th><th scope=col>&lt;dbl&gt;</th><th scope=col>&lt;dbl&gt;</th><th scope=col>&lt;dbl&gt;</th><th scope=col>&lt;dbl&gt;</th><th scope=col>&lt;dbl&gt;</th><th scope=col>&lt;dbl&gt;</th><th scope=col>&lt;dbl&gt;</th><th scope=col>&lt;dbl&gt;</th></tr>\n",
       "</thead>\n",
       "<tbody>\n",
       "\t<tr><td> 3</td><td>5</td><td>2003-03-28</td><td>UA</td><td>LAX</td><td>JFK</td><td>2210</td><td>0615</td><td>2209</td><td>0617</td><td>⋯</td><td>0.7262873</td><td>12.66667</td><td>-1</td><td>0</td><td>NA</td><td>NA</td><td>0.09933775</td><td>0.02409639</td><td>-0.04815631</td><td>-0.28063352</td></tr>\n",
       "\t<tr><td>11</td><td>4</td><td>2018-11-29</td><td>AS</td><td>LAX</td><td>JFK</td><td>1045</td><td>1912</td><td>1049</td><td>1851</td><td>⋯</td><td>0.7262873</td><td>12.66667</td><td> 4</td><td>4</td><td>NA</td><td>NA</td><td>0.06887417</td><td>0.03078983</td><td>-0.60922513</td><td>-0.14031185</td></tr>\n",
       "\t<tr><td> 8</td><td>5</td><td>2015-08-28</td><td>UA</td><td>LAX</td><td>JFK</td><td>0805</td><td>1634</td><td>0757</td><td>1620</td><td>⋯</td><td>0.7262873</td><td>12.66667</td><td>-8</td><td>0</td><td>NA</td><td>NA</td><td>0.07814570</td><td>0.01472557</td><td>-0.43846505</td><td>-0.47708387</td></tr>\n",
       "\t<tr><td> 4</td><td>7</td><td>2003-04-20</td><td>DL</td><td>LAX</td><td>JFK</td><td>2205</td><td>0619</td><td>2212</td><td>0616</td><td>⋯</td><td>0.7262873</td><td>12.66667</td><td> 7</td><td>7</td><td>NA</td><td>NA</td><td>0.09271523</td><td>0.03480589</td><td>-0.17012779</td><td>-0.05611884</td></tr>\n",
       "\t<tr><td>11</td><td>3</td><td>2005-11-30</td><td>UA</td><td>LAX</td><td>JFK</td><td>0840</td><td>1653</td><td>0836</td><td>1640</td><td>⋯</td><td>0.7262873</td><td>12.66667</td><td>-4</td><td>0</td><td>NA</td><td>NA</td><td>0.07947020</td><td>0.02008032</td><td>-0.41407075</td><td>-0.36482653</td></tr>\n",
       "\t<tr><td> 4</td><td>1</td><td>1992-04-06</td><td>UA</td><td>LAX</td><td>JFK</td><td>1450</td><td>2308</td><td>1452</td><td>2248</td><td>⋯</td><td>0.7262873</td><td>12.66667</td><td> 2</td><td>2</td><td>NA</td><td>NA</td><td>0.07019868</td><td>0.02811245</td><td>-0.58483083</td><td>-0.19644052</td></tr>\n",
       "</tbody>\n",
       "</table>\n"
      ],
      "text/latex": [
       "A tibble: 6 × 25\n",
       "\\begin{tabular}{lllllllllllllllllllll}\n",
       " Month & DayOfWeek & FlightDate & Reporting\\_Airline & Origin & Dest & CRSDepTime & CRSArrTime & DepTime & ArrTime & ⋯ & SecurityDelay & LateAircraftDelay & DepDelay & DepDelayMinutes & DivDistance & DivArrDelay & ArrScaled & DepScaled & zs\\_ArrDelay & zs\\_DepDelay\\\\\n",
       " <dbl> & <dbl> & <date> & <chr> & <chr> & <chr> & <chr> & <chr> & <chr> & <chr> & ⋯ & <dbl> & <dbl> & <dbl> & <dbl> & <dbl> & <dbl> & <dbl> & <dbl> & <dbl> & <dbl>\\\\\n",
       "\\hline\n",
       "\t  3 & 5 & 2003-03-28 & UA & LAX & JFK & 2210 & 0615 & 2209 & 0617 & ⋯ & 0.7262873 & 12.66667 & -1 & 0 & NA & NA & 0.09933775 & 0.02409639 & -0.04815631 & -0.28063352\\\\\n",
       "\t 11 & 4 & 2018-11-29 & AS & LAX & JFK & 1045 & 1912 & 1049 & 1851 & ⋯ & 0.7262873 & 12.66667 &  4 & 4 & NA & NA & 0.06887417 & 0.03078983 & -0.60922513 & -0.14031185\\\\\n",
       "\t  8 & 5 & 2015-08-28 & UA & LAX & JFK & 0805 & 1634 & 0757 & 1620 & ⋯ & 0.7262873 & 12.66667 & -8 & 0 & NA & NA & 0.07814570 & 0.01472557 & -0.43846505 & -0.47708387\\\\\n",
       "\t  4 & 7 & 2003-04-20 & DL & LAX & JFK & 2205 & 0619 & 2212 & 0616 & ⋯ & 0.7262873 & 12.66667 &  7 & 7 & NA & NA & 0.09271523 & 0.03480589 & -0.17012779 & -0.05611884\\\\\n",
       "\t 11 & 3 & 2005-11-30 & UA & LAX & JFK & 0840 & 1653 & 0836 & 1640 & ⋯ & 0.7262873 & 12.66667 & -4 & 0 & NA & NA & 0.07947020 & 0.02008032 & -0.41407075 & -0.36482653\\\\\n",
       "\t  4 & 1 & 1992-04-06 & UA & LAX & JFK & 1450 & 2308 & 1452 & 2248 & ⋯ & 0.7262873 & 12.66667 &  2 & 2 & NA & NA & 0.07019868 & 0.02811245 & -0.58483083 & -0.19644052\\\\\n",
       "\\end{tabular}\n"
      ],
      "text/markdown": [
       "\n",
       "A tibble: 6 × 25\n",
       "\n",
       "| Month &lt;dbl&gt; | DayOfWeek &lt;dbl&gt; | FlightDate &lt;date&gt; | Reporting_Airline &lt;chr&gt; | Origin &lt;chr&gt; | Dest &lt;chr&gt; | CRSDepTime &lt;chr&gt; | CRSArrTime &lt;chr&gt; | DepTime &lt;chr&gt; | ArrTime &lt;chr&gt; | ⋯ ⋯ | SecurityDelay &lt;dbl&gt; | LateAircraftDelay &lt;dbl&gt; | DepDelay &lt;dbl&gt; | DepDelayMinutes &lt;dbl&gt; | DivDistance &lt;dbl&gt; | DivArrDelay &lt;dbl&gt; | ArrScaled &lt;dbl&gt; | DepScaled &lt;dbl&gt; | zs_ArrDelay &lt;dbl&gt; | zs_DepDelay &lt;dbl&gt; |\n",
       "|---|---|---|---|---|---|---|---|---|---|---|---|---|---|---|---|---|---|---|---|---|\n",
       "|  3 | 5 | 2003-03-28 | UA | LAX | JFK | 2210 | 0615 | 2209 | 0617 | ⋯ | 0.7262873 | 12.66667 | -1 | 0 | NA | NA | 0.09933775 | 0.02409639 | -0.04815631 | -0.28063352 |\n",
       "| 11 | 4 | 2018-11-29 | AS | LAX | JFK | 1045 | 1912 | 1049 | 1851 | ⋯ | 0.7262873 | 12.66667 |  4 | 4 | NA | NA | 0.06887417 | 0.03078983 | -0.60922513 | -0.14031185 |\n",
       "|  8 | 5 | 2015-08-28 | UA | LAX | JFK | 0805 | 1634 | 0757 | 1620 | ⋯ | 0.7262873 | 12.66667 | -8 | 0 | NA | NA | 0.07814570 | 0.01472557 | -0.43846505 | -0.47708387 |\n",
       "|  4 | 7 | 2003-04-20 | DL | LAX | JFK | 2205 | 0619 | 2212 | 0616 | ⋯ | 0.7262873 | 12.66667 |  7 | 7 | NA | NA | 0.09271523 | 0.03480589 | -0.17012779 | -0.05611884 |\n",
       "| 11 | 3 | 2005-11-30 | UA | LAX | JFK | 0840 | 1653 | 0836 | 1640 | ⋯ | 0.7262873 | 12.66667 | -4 | 0 | NA | NA | 0.07947020 | 0.02008032 | -0.41407075 | -0.36482653 |\n",
       "|  4 | 1 | 1992-04-06 | UA | LAX | JFK | 1450 | 2308 | 1452 | 2248 | ⋯ | 0.7262873 | 12.66667 |  2 | 2 | NA | NA | 0.07019868 | 0.02811245 | -0.58483083 | -0.19644052 |\n",
       "\n"
      ],
      "text/plain": [
       "  Month DayOfWeek FlightDate Reporting_Airline Origin Dest CRSDepTime\n",
       "1  3    5         2003-03-28 UA                LAX    JFK  2210      \n",
       "2 11    4         2018-11-29 AS                LAX    JFK  1045      \n",
       "3  8    5         2015-08-28 UA                LAX    JFK  0805      \n",
       "4  4    7         2003-04-20 DL                LAX    JFK  2205      \n",
       "5 11    3         2005-11-30 UA                LAX    JFK  0840      \n",
       "6  4    1         1992-04-06 UA                LAX    JFK  1450      \n",
       "  CRSArrTime DepTime ArrTime ⋯ SecurityDelay LateAircraftDelay DepDelay\n",
       "1 0615       2209    0617    ⋯ 0.7262873     12.66667          -1      \n",
       "2 1912       1049    1851    ⋯ 0.7262873     12.66667           4      \n",
       "3 1634       0757    1620    ⋯ 0.7262873     12.66667          -8      \n",
       "4 0619       2212    0616    ⋯ 0.7262873     12.66667           7      \n",
       "5 1653       0836    1640    ⋯ 0.7262873     12.66667          -4      \n",
       "6 2308       1452    2248    ⋯ 0.7262873     12.66667           2      \n",
       "  DepDelayMinutes DivDistance DivArrDelay ArrScaled  DepScaled  zs_ArrDelay\n",
       "1 0               NA          NA          0.09933775 0.02409639 -0.04815631\n",
       "2 4               NA          NA          0.06887417 0.03078983 -0.60922513\n",
       "3 0               NA          NA          0.07814570 0.01472557 -0.43846505\n",
       "4 7               NA          NA          0.09271523 0.03480589 -0.17012779\n",
       "5 0               NA          NA          0.07947020 0.02008032 -0.41407075\n",
       "6 2               NA          NA          0.07019868 0.02811245 -0.58483083\n",
       "  zs_DepDelay\n",
       "1 -0.28063352\n",
       "2 -0.14031185\n",
       "3 -0.47708387\n",
       "4 -0.05611884\n",
       "5 -0.36482653\n",
       "6 -0.19644052"
      ]
     },
     "metadata": {},
     "output_type": "display_data"
    }
   ],
   "source": [
    "head(sub_airline)"
   ]
  },
  {
   "cell_type": "code",
   "execution_count": 13,
   "id": "b2361634",
   "metadata": {
    "execution": {
     "iopub.execute_input": "2024-10-18T07:29:06.933944Z",
     "iopub.status.busy": "2024-10-18T07:29:06.932347Z",
     "iopub.status.idle": "2024-10-18T07:29:08.109302Z",
     "shell.execute_reply": "2024-10-18T07:29:08.107453Z"
    },
    "papermill": {
     "duration": 1.190125,
     "end_time": "2024-10-18T07:29:08.111619",
     "exception": false,
     "start_time": "2024-10-18T07:29:06.921494",
     "status": "completed"
    },
    "tags": []
   },
   "outputs": [
    {
     "data": {
      "image/png": "[encoded data removed]"
     },
     "metadata": {
      "image/png": {
       "height": 420,
       "width": 420
      }
     },
     "output_type": "display_data"
    }
   ],
   "source": [
    "library(ggplot2)\n",
    "\n",
    "ggplot(sub_airline, aes(x=ArrDelay)) +\n",
    "       geom_histogram(binwidth=25, fill=\"blue\", alpha=0.5) +\n",
    "       geom_histogram(aes(x=ArrScaled), binwidth=0.5, fill = \"green\", alpha=0.5) +\n",
    "       geom_histogram(aes(x=zs_ArrDelay), binwidth=0.5, fill =\"orange\", alpha=0.5) +\n",
    "       labs(title = \"Histogram Comparison: Original - Min_Max - Z-Score\",\n",
    "           x = 'ArrDelay',\n",
    "           y = 'Frequency') +\n",
    "       theme_minimal()"
   ]
  },
  {
   "cell_type": "markdown",
   "id": "ed56159d",
   "metadata": {
    "papermill": {
     "duration": 0.009209,
     "end_time": "2024-10-18T07:29:08.130413",
     "exception": false,
     "start_time": "2024-10-18T07:29:08.121204",
     "status": "completed"
    },
    "tags": []
   },
   "source": [
    "#### How did the distribution of the data change after each normalization technique?\n",
    "1. Original Data Distribution\n",
    "Range: The data can have any range, depending on the dataset.\n",
    "Mean and Standard Deviation: The mean and spread (standard deviation) of the data will vary naturally depending on the dataset's original distribution (e.g., normal, skewed).\n",
    "Shape: The shape of the distribution is untouched in the original dataset.\n",
    "2. Min-Max Scaling\n",
    "Range: After min-max scaling, the values are transformed to fall within a specific range, usually between 0 and 1. The minimum value in the original data becomes 0, and the maximum becomes 1.\n",
    "Effect on Mean and Standard Deviation: The mean and standard deviation will change, but the shape of the distribution remains the same.\n",
    "Shape: The distribution's shape remains unchanged. This scaling only adjusts the range of values without altering the relationships between the data points.\n",
    "Key Points:\n",
    "Maintains the relative distances between values but compresses them into a [0,1] range.\n",
    "Useful when you want to maintain the original distribution but rescale it to a fixed range.\n",
    "3. Z-Score Normalization\n",
    "Range: Z-score normalization rescales the data such that the mean of the distribution is 0 and the standard deviation is 1. Most values will fall between -3 and +3 (depending on the spread of the original data).\n",
    "Effect on Mean and Standard Deviation: After z-score normalization, the mean of the data will be 0, and the standard deviation will be 1.\n",
    "Shape: Like min-max scaling, the shape of the distribution doesn't change. It only standardizes the values relative to the original mean and standard deviation.\n",
    "Key Points:\n",
    "Centered around 0, with a standard deviation of 1.\n",
    "The distribution's shape is preserved but scaled to have a mean of 0 and standard deviation of 1.\n",
    "#### Which normalization technique seems most appropriate for this data, and why?\n",
    "min-max scaling, because we need to keep all data points within a specific range for models sensitive to magnitude.\n",
    "#### How might the choice of normalization technique affect further analysis?\n",
    "The choice of normalization technique should be based on the characteristics of the data, the requirements of the analysis, and the assumptions of the models being used.\n",
    "\n"
   ]
  },
  {
   "cell_type": "markdown",
   "id": "30419b5d",
   "metadata": {
    "papermill": {
     "duration": 0.009604,
     "end_time": "2024-10-18T07:29:08.149208",
     "exception": false,
     "start_time": "2024-10-18T07:29:08.139604",
     "status": "completed"
    },
    "tags": []
   },
   "source": [
    "## Task 3: Data Binning (20 points)\n"
   ]
  },
  {
   "cell_type": "markdown",
   "id": "016feb45",
   "metadata": {
    "papermill": {
     "duration": 0.009164,
     "end_time": "2024-10-18T07:29:08.167570",
     "exception": false,
     "start_time": "2024-10-18T07:29:08.158406",
     "status": "completed"
    },
    "tags": []
   },
   "source": [
    "#### Create a histogram of the \"ArrDelay\" column."
   ]
  },
  {
   "cell_type": "code",
   "execution_count": 14,
   "id": "0a6c2336",
   "metadata": {
    "execution": {
     "iopub.execute_input": "2024-10-18T07:29:08.189707Z",
     "iopub.status.busy": "2024-10-18T07:29:08.188088Z",
     "iopub.status.idle": "2024-10-18T07:29:08.464797Z",
     "shell.execute_reply": "2024-10-18T07:29:08.462861Z"
    },
    "papermill": {
     "duration": 0.290457,
     "end_time": "2024-10-18T07:29:08.467237",
     "exception": false,
     "start_time": "2024-10-18T07:29:08.176780",
     "status": "completed"
    },
    "tags": []
   },
   "outputs": [
    {
     "data": {
      "image/png": "[encoded data removed]"
     },
     "metadata": {
      "image/png": {
       "height": 420,
       "width": 420
      }
     },
     "output_type": "display_data"
    }
   ],
   "source": [
    "# Create a histogram of the \"ArrDelay\" column.\n",
    "\n",
    "sub_airline %>% ggplot(aes(x=ArrDelay)) +\n",
    "                geom_histogram(binwidth = 5, fill =\"skyblue\", color = \"black\") +\n",
    "                labs(title = \"Histogarm of Arrival Delay\",\n",
    "                     x = \"ArrDelay\",\n",
    "                     y = \"Frequency\") +\n",
    "                theme_minimal()"
   ]
  },
  {
   "cell_type": "code",
   "execution_count": 15,
   "id": "29709a17",
   "metadata": {
    "execution": {
     "iopub.execute_input": "2024-10-18T07:29:08.490696Z",
     "iopub.status.busy": "2024-10-18T07:29:08.489090Z",
     "iopub.status.idle": "2024-10-18T07:29:08.555967Z",
     "shell.execute_reply": "2024-10-18T07:29:08.554193Z"
    },
    "papermill": {
     "duration": 0.081286,
     "end_time": "2024-10-18T07:29:08.558445",
     "exception": false,
     "start_time": "2024-10-18T07:29:08.477159",
     "status": "completed"
    },
    "tags": []
   },
   "outputs": [
    {
     "data": {
      "text/html": [
       "<table class=\"dataframe\">\n",
       "<caption>A tibble: 6 × 26</caption>\n",
       "<thead>\n",
       "\t<tr><th scope=col>Month</th><th scope=col>DayOfWeek</th><th scope=col>FlightDate</th><th scope=col>Reporting_Airline</th><th scope=col>Origin</th><th scope=col>Dest</th><th scope=col>CRSDepTime</th><th scope=col>CRSArrTime</th><th scope=col>DepTime</th><th scope=col>ArrTime</th><th scope=col>⋯</th><th scope=col>LateAircraftDelay</th><th scope=col>DepDelay</th><th scope=col>DepDelayMinutes</th><th scope=col>DivDistance</th><th scope=col>DivArrDelay</th><th scope=col>ArrScaled</th><th scope=col>DepScaled</th><th scope=col>zs_ArrDelay</th><th scope=col>zs_DepDelay</th><th scope=col>ArrDelay_Bin</th></tr>\n",
       "\t<tr><th scope=col>&lt;dbl&gt;</th><th scope=col>&lt;dbl&gt;</th><th scope=col>&lt;date&gt;</th><th scope=col>&lt;chr&gt;</th><th scope=col>&lt;chr&gt;</th><th scope=col>&lt;chr&gt;</th><th scope=col>&lt;chr&gt;</th><th scope=col>&lt;chr&gt;</th><th scope=col>&lt;chr&gt;</th><th scope=col>&lt;chr&gt;</th><th scope=col>⋯</th><th scope=col>&lt;dbl&gt;</th><th scope=col>&lt;dbl&gt;</th><th scope=col>&lt;dbl&gt;</th><th scope=col>&lt;dbl&gt;</th><th scope=col>&lt;dbl&gt;</th><th scope=col>&lt;dbl&gt;</th><th scope=col>&lt;dbl&gt;</th><th scope=col>&lt;dbl&gt;</th><th scope=col>&lt;dbl&gt;</th><th scope=col>&lt;fct&gt;</th></tr>\n",
       "</thead>\n",
       "<tbody>\n",
       "\t<tr><td> 3</td><td>5</td><td>2003-03-28</td><td>UA</td><td>LAX</td><td>JFK</td><td>2210</td><td>0615</td><td>2209</td><td>0617</td><td>⋯</td><td>12.66667</td><td>-1</td><td>0</td><td>NA</td><td>NA</td><td>0.09933775</td><td>0.02409639</td><td>-0.04815631</td><td>-0.28063352</td><td>Low</td></tr>\n",
       "\t<tr><td>11</td><td>4</td><td>2018-11-29</td><td>AS</td><td>LAX</td><td>JFK</td><td>1045</td><td>1912</td><td>1049</td><td>1851</td><td>⋯</td><td>12.66667</td><td> 4</td><td>4</td><td>NA</td><td>NA</td><td>0.06887417</td><td>0.03078983</td><td>-0.60922513</td><td>-0.14031185</td><td>Low</td></tr>\n",
       "\t<tr><td> 8</td><td>5</td><td>2015-08-28</td><td>UA</td><td>LAX</td><td>JFK</td><td>0805</td><td>1634</td><td>0757</td><td>1620</td><td>⋯</td><td>12.66667</td><td>-8</td><td>0</td><td>NA</td><td>NA</td><td>0.07814570</td><td>0.01472557</td><td>-0.43846505</td><td>-0.47708387</td><td>Low</td></tr>\n",
       "\t<tr><td> 4</td><td>7</td><td>2003-04-20</td><td>DL</td><td>LAX</td><td>JFK</td><td>2205</td><td>0619</td><td>2212</td><td>0616</td><td>⋯</td><td>12.66667</td><td> 7</td><td>7</td><td>NA</td><td>NA</td><td>0.09271523</td><td>0.03480589</td><td>-0.17012779</td><td>-0.05611884</td><td>Low</td></tr>\n",
       "\t<tr><td>11</td><td>3</td><td>2005-11-30</td><td>UA</td><td>LAX</td><td>JFK</td><td>0840</td><td>1653</td><td>0836</td><td>1640</td><td>⋯</td><td>12.66667</td><td>-4</td><td>0</td><td>NA</td><td>NA</td><td>0.07947020</td><td>0.02008032</td><td>-0.41407075</td><td>-0.36482653</td><td>Low</td></tr>\n",
       "\t<tr><td> 4</td><td>1</td><td>1992-04-06</td><td>UA</td><td>LAX</td><td>JFK</td><td>1450</td><td>2308</td><td>1452</td><td>2248</td><td>⋯</td><td>12.66667</td><td> 2</td><td>2</td><td>NA</td><td>NA</td><td>0.07019868</td><td>0.02811245</td><td>-0.58483083</td><td>-0.19644052</td><td>Low</td></tr>\n",
       "</tbody>\n",
       "</table>\n"
      ],
      "text/latex": [
       "A tibble: 6 × 26\n",
       "\\begin{tabular}{lllllllllllllllllllll}\n",
       " Month & DayOfWeek & FlightDate & Reporting\\_Airline & Origin & Dest & CRSDepTime & CRSArrTime & DepTime & ArrTime & ⋯ & LateAircraftDelay & DepDelay & DepDelayMinutes & DivDistance & DivArrDelay & ArrScaled & DepScaled & zs\\_ArrDelay & zs\\_DepDelay & ArrDelay\\_Bin\\\\\n",
       " <dbl> & <dbl> & <date> & <chr> & <chr> & <chr> & <chr> & <chr> & <chr> & <chr> & ⋯ & <dbl> & <dbl> & <dbl> & <dbl> & <dbl> & <dbl> & <dbl> & <dbl> & <dbl> & <fct>\\\\\n",
       "\\hline\n",
       "\t  3 & 5 & 2003-03-28 & UA & LAX & JFK & 2210 & 0615 & 2209 & 0617 & ⋯ & 12.66667 & -1 & 0 & NA & NA & 0.09933775 & 0.02409639 & -0.04815631 & -0.28063352 & Low\\\\\n",
       "\t 11 & 4 & 2018-11-29 & AS & LAX & JFK & 1045 & 1912 & 1049 & 1851 & ⋯ & 12.66667 &  4 & 4 & NA & NA & 0.06887417 & 0.03078983 & -0.60922513 & -0.14031185 & Low\\\\\n",
       "\t  8 & 5 & 2015-08-28 & UA & LAX & JFK & 0805 & 1634 & 0757 & 1620 & ⋯ & 12.66667 & -8 & 0 & NA & NA & 0.07814570 & 0.01472557 & -0.43846505 & -0.47708387 & Low\\\\\n",
       "\t  4 & 7 & 2003-04-20 & DL & LAX & JFK & 2205 & 0619 & 2212 & 0616 & ⋯ & 12.66667 &  7 & 7 & NA & NA & 0.09271523 & 0.03480589 & -0.17012779 & -0.05611884 & Low\\\\\n",
       "\t 11 & 3 & 2005-11-30 & UA & LAX & JFK & 0840 & 1653 & 0836 & 1640 & ⋯ & 12.66667 & -4 & 0 & NA & NA & 0.07947020 & 0.02008032 & -0.41407075 & -0.36482653 & Low\\\\\n",
       "\t  4 & 1 & 1992-04-06 & UA & LAX & JFK & 1450 & 2308 & 1452 & 2248 & ⋯ & 12.66667 &  2 & 2 & NA & NA & 0.07019868 & 0.02811245 & -0.58483083 & -0.19644052 & Low\\\\\n",
       "\\end{tabular}\n"
      ],
      "text/markdown": [
       "\n",
       "A tibble: 6 × 26\n",
       "\n",
       "| Month &lt;dbl&gt; | DayOfWeek &lt;dbl&gt; | FlightDate &lt;date&gt; | Reporting_Airline &lt;chr&gt; | Origin &lt;chr&gt; | Dest &lt;chr&gt; | CRSDepTime &lt;chr&gt; | CRSArrTime &lt;chr&gt; | DepTime &lt;chr&gt; | ArrTime &lt;chr&gt; | ⋯ ⋯ | LateAircraftDelay &lt;dbl&gt; | DepDelay &lt;dbl&gt; | DepDelayMinutes &lt;dbl&gt; | DivDistance &lt;dbl&gt; | DivArrDelay &lt;dbl&gt; | ArrScaled &lt;dbl&gt; | DepScaled &lt;dbl&gt; | zs_ArrDelay &lt;dbl&gt; | zs_DepDelay &lt;dbl&gt; | ArrDelay_Bin &lt;fct&gt; |\n",
       "|---|---|---|---|---|---|---|---|---|---|---|---|---|---|---|---|---|---|---|---|---|\n",
       "|  3 | 5 | 2003-03-28 | UA | LAX | JFK | 2210 | 0615 | 2209 | 0617 | ⋯ | 12.66667 | -1 | 0 | NA | NA | 0.09933775 | 0.02409639 | -0.04815631 | -0.28063352 | Low |\n",
       "| 11 | 4 | 2018-11-29 | AS | LAX | JFK | 1045 | 1912 | 1049 | 1851 | ⋯ | 12.66667 |  4 | 4 | NA | NA | 0.06887417 | 0.03078983 | -0.60922513 | -0.14031185 | Low |\n",
       "|  8 | 5 | 2015-08-28 | UA | LAX | JFK | 0805 | 1634 | 0757 | 1620 | ⋯ | 12.66667 | -8 | 0 | NA | NA | 0.07814570 | 0.01472557 | -0.43846505 | -0.47708387 | Low |\n",
       "|  4 | 7 | 2003-04-20 | DL | LAX | JFK | 2205 | 0619 | 2212 | 0616 | ⋯ | 12.66667 |  7 | 7 | NA | NA | 0.09271523 | 0.03480589 | -0.17012779 | -0.05611884 | Low |\n",
       "| 11 | 3 | 2005-11-30 | UA | LAX | JFK | 0840 | 1653 | 0836 | 1640 | ⋯ | 12.66667 | -4 | 0 | NA | NA | 0.07947020 | 0.02008032 | -0.41407075 | -0.36482653 | Low |\n",
       "|  4 | 1 | 1992-04-06 | UA | LAX | JFK | 1450 | 2308 | 1452 | 2248 | ⋯ | 12.66667 |  2 | 2 | NA | NA | 0.07019868 | 0.02811245 | -0.58483083 | -0.19644052 | Low |\n",
       "\n"
      ],
      "text/plain": [
       "  Month DayOfWeek FlightDate Reporting_Airline Origin Dest CRSDepTime\n",
       "1  3    5         2003-03-28 UA                LAX    JFK  2210      \n",
       "2 11    4         2018-11-29 AS                LAX    JFK  1045      \n",
       "3  8    5         2015-08-28 UA                LAX    JFK  0805      \n",
       "4  4    7         2003-04-20 DL                LAX    JFK  2205      \n",
       "5 11    3         2005-11-30 UA                LAX    JFK  0840      \n",
       "6  4    1         1992-04-06 UA                LAX    JFK  1450      \n",
       "  CRSArrTime DepTime ArrTime ⋯ LateAircraftDelay DepDelay DepDelayMinutes\n",
       "1 0615       2209    0617    ⋯ 12.66667          -1       0              \n",
       "2 1912       1049    1851    ⋯ 12.66667           4       4              \n",
       "3 1634       0757    1620    ⋯ 12.66667          -8       0              \n",
       "4 0619       2212    0616    ⋯ 12.66667           7       7              \n",
       "5 1653       0836    1640    ⋯ 12.66667          -4       0              \n",
       "6 2308       1452    2248    ⋯ 12.66667           2       2              \n",
       "  DivDistance DivArrDelay ArrScaled  DepScaled  zs_ArrDelay zs_DepDelay\n",
       "1 NA          NA          0.09933775 0.02409639 -0.04815631 -0.28063352\n",
       "2 NA          NA          0.06887417 0.03078983 -0.60922513 -0.14031185\n",
       "3 NA          NA          0.07814570 0.01472557 -0.43846505 -0.47708387\n",
       "4 NA          NA          0.09271523 0.03480589 -0.17012779 -0.05611884\n",
       "5 NA          NA          0.07947020 0.02008032 -0.41407075 -0.36482653\n",
       "6 NA          NA          0.07019868 0.02811245 -0.58483083 -0.19644052\n",
       "  ArrDelay_Bin\n",
       "1 Low         \n",
       "2 Low         \n",
       "3 Low         \n",
       "4 Low         \n",
       "5 Low         \n",
       "6 Low         "
      ]
     },
     "metadata": {},
     "output_type": "display_data"
    }
   ],
   "source": [
    "# Implement a binning strategy on the \"ArrDelay\" column, creating a new column with 4 bins.\n",
    "\n",
    "sub_airline <- sub_airline %>%\n",
    "                   mutate(ArrDelay_Bin = cut(ArrDelay,\n",
    "                                            breaks = 4,\n",
    "                                            labels = c(\"Low\", \"Moderate\", \"High\", \"Very High\"),\n",
    "                                            include.lowest = TRUE))\n",
    "\n",
    "head(sub_airline)"
   ]
  },
  {
   "cell_type": "code",
   "execution_count": 16,
   "id": "5ac3b030",
   "metadata": {
    "execution": {
     "iopub.execute_input": "2024-10-18T07:29:08.582759Z",
     "iopub.status.busy": "2024-10-18T07:29:08.581128Z",
     "iopub.status.idle": "2024-10-18T07:29:08.814997Z",
     "shell.execute_reply": "2024-10-18T07:29:08.813096Z"
    },
    "papermill": {
     "duration": 0.248671,
     "end_time": "2024-10-18T07:29:08.817399",
     "exception": false,
     "start_time": "2024-10-18T07:29:08.568728",
     "status": "completed"
    },
    "tags": []
   },
   "outputs": [
    {
     "data": {
      "image/png": "[encoded data removed]"
     },
     "metadata": {
      "image/png": {
       "height": 420,
       "width": 420
      }
     },
     "output_type": "display_data"
    }
   ],
   "source": [
    "# Visualize the results of your binning using an appropriate plot.\n",
    "sub_airline %>% ggplot(aes(x=ArrDelay_Bin)) +\n",
    "                geom_bar(fill=\"blue\", color=\"black\") +\n",
    "                labs(title='Binned ArrDeley',\n",
    "                    x = \"ArrDelay Categories\",\n",
    "                    y = \"Frequency\") +\n",
    "              theme_minimal()"
   ]
  },
  {
   "cell_type": "markdown",
   "id": "39ba672a",
   "metadata": {
    "papermill": {
     "duration": 0.010642,
     "end_time": "2024-10-18T07:29:08.839005",
     "exception": false,
     "start_time": "2024-10-18T07:29:08.828363",
     "status": "completed"
    },
    "tags": []
   },
   "source": [
    "#### What insights does the histogram provide about the distribution of arrival delays?\n",
    "Low Arrival Delay are occurred frequenly but there still have high or very high Delay still happened\n",
    "#### How did you choose the number of bins, and what are the implications of this choice?\n",
    "\n",
    "Detail vs. Overview: More bins offer more granularity, fewer bins simplify the view.\n",
    "\n",
    "Interpretability: Fewer bins with meaningful labels make the data easier to explain.\n",
    "\n",
    "Analysis Results: Too many bins can overwhelm models, while too few may hide important trends.\n",
    "\n",
    "The 4-bin strategy provides a good balance for further analysis and visualization.\n",
    "#### How might binning be useful in further analysis of this dataset?\n",
    "Detects patterns: Binned data can help reveal hidden patterns or relationships that might not be clear in raw continuous data. For example, it’s easier to see how certain delay categories relate to cancellations or customer satisfaction.\n",
    "\n",
    "Improves model performance: For classification models like decision trees, using binned categories instead of raw values can improve accuracy by making the data more structured and manageable.\n",
    "\n",
    "Reduces noise: Binning can smooth out extreme values or outliers, which might otherwise skew analysis or modeling results."
   ]
  },
  {
   "cell_type": "markdown",
   "id": "b7a0fcef",
   "metadata": {
    "papermill": {
     "duration": 0.010659,
     "end_time": "2024-10-18T07:29:08.860336",
     "exception": false,
     "start_time": "2024-10-18T07:29:08.849677",
     "status": "completed"
    },
    "tags": []
   },
   "source": [
    "## Task 4: Creating Indicator Variables (20 points)\n"
   ]
  },
  {
   "cell_type": "code",
   "execution_count": 17,
   "id": "03be6225",
   "metadata": {
    "execution": {
     "iopub.execute_input": "2024-10-18T07:29:08.885449Z",
     "iopub.status.busy": "2024-10-18T07:29:08.883791Z",
     "iopub.status.idle": "2024-10-18T07:29:08.979564Z",
     "shell.execute_reply": "2024-10-18T07:29:08.977728Z"
    },
    "papermill": {
     "duration": 0.110911,
     "end_time": "2024-10-18T07:29:08.982013",
     "exception": false,
     "start_time": "2024-10-18T07:29:08.871102",
     "status": "completed"
    },
    "tags": []
   },
   "outputs": [
    {
     "data": {
      "text/html": [
       "<table class=\"dataframe\">\n",
       "<caption>A tibble: 6 × 34</caption>\n",
       "<thead>\n",
       "\t<tr><th scope=col>Month</th><th scope=col>DayOfWeek</th><th scope=col>FlightDate</th><th scope=col>Origin</th><th scope=col>Dest</th><th scope=col>CRSDepTime</th><th scope=col>CRSArrTime</th><th scope=col>DepTime</th><th scope=col>ArrTime</th><th scope=col>ArrDelay</th><th scope=col>⋯</th><th scope=col>ArrDelay_Bin</th><th scope=col>Airline_UA</th><th scope=col>Airline_AS</th><th scope=col>Airline_DL</th><th scope=col>Airline_VX</th><th scope=col>Airline_HP</th><th scope=col>Airline_AA</th><th scope=col>Airline_B6</th><th scope=col>Airline_PA (1)</th><th scope=col>Airline_TW</th></tr>\n",
       "\t<tr><th scope=col>&lt;dbl&gt;</th><th scope=col>&lt;dbl&gt;</th><th scope=col>&lt;date&gt;</th><th scope=col>&lt;chr&gt;</th><th scope=col>&lt;chr&gt;</th><th scope=col>&lt;chr&gt;</th><th scope=col>&lt;chr&gt;</th><th scope=col>&lt;chr&gt;</th><th scope=col>&lt;chr&gt;</th><th scope=col>&lt;dbl&gt;</th><th scope=col>⋯</th><th scope=col>&lt;fct&gt;</th><th scope=col>&lt;int&gt;</th><th scope=col>&lt;int&gt;</th><th scope=col>&lt;int&gt;</th><th scope=col>&lt;int&gt;</th><th scope=col>&lt;int&gt;</th><th scope=col>&lt;int&gt;</th><th scope=col>&lt;int&gt;</th><th scope=col>&lt;int&gt;</th><th scope=col>&lt;int&gt;</th></tr>\n",
       "</thead>\n",
       "<tbody>\n",
       "\t<tr><td> 3</td><td>5</td><td>2003-03-28</td><td>LAX</td><td>JFK</td><td>2210</td><td>0615</td><td>2209</td><td>0617</td><td>  2</td><td>⋯</td><td>Low</td><td>1</td><td>0</td><td>0</td><td>0</td><td>0</td><td>0</td><td>0</td><td>0</td><td>0</td></tr>\n",
       "\t<tr><td>11</td><td>4</td><td>2018-11-29</td><td>LAX</td><td>JFK</td><td>1045</td><td>1912</td><td>1049</td><td>1851</td><td>-21</td><td>⋯</td><td>Low</td><td>0</td><td>1</td><td>0</td><td>0</td><td>0</td><td>0</td><td>0</td><td>0</td><td>0</td></tr>\n",
       "\t<tr><td> 8</td><td>5</td><td>2015-08-28</td><td>LAX</td><td>JFK</td><td>0805</td><td>1634</td><td>0757</td><td>1620</td><td>-14</td><td>⋯</td><td>Low</td><td>1</td><td>0</td><td>0</td><td>0</td><td>0</td><td>0</td><td>0</td><td>0</td><td>0</td></tr>\n",
       "\t<tr><td> 4</td><td>7</td><td>2003-04-20</td><td>LAX</td><td>JFK</td><td>2205</td><td>0619</td><td>2212</td><td>0616</td><td> -3</td><td>⋯</td><td>Low</td><td>0</td><td>0</td><td>1</td><td>0</td><td>0</td><td>0</td><td>0</td><td>0</td><td>0</td></tr>\n",
       "\t<tr><td>11</td><td>3</td><td>2005-11-30</td><td>LAX</td><td>JFK</td><td>0840</td><td>1653</td><td>0836</td><td>1640</td><td>-13</td><td>⋯</td><td>Low</td><td>1</td><td>0</td><td>0</td><td>0</td><td>0</td><td>0</td><td>0</td><td>0</td><td>0</td></tr>\n",
       "\t<tr><td> 4</td><td>1</td><td>1992-04-06</td><td>LAX</td><td>JFK</td><td>1450</td><td>2308</td><td>1452</td><td>2248</td><td>-20</td><td>⋯</td><td>Low</td><td>1</td><td>0</td><td>0</td><td>0</td><td>0</td><td>0</td><td>0</td><td>0</td><td>0</td></tr>\n",
       "</tbody>\n",
       "</table>\n"
      ],
      "text/latex": [
       "A tibble: 6 × 34\n",
       "\\begin{tabular}{lllllllllllllllllllll}\n",
       " Month & DayOfWeek & FlightDate & Origin & Dest & CRSDepTime & CRSArrTime & DepTime & ArrTime & ArrDelay & ⋯ & ArrDelay\\_Bin & Airline\\_UA & Airline\\_AS & Airline\\_DL & Airline\\_VX & Airline\\_HP & Airline\\_AA & Airline\\_B6 & Airline\\_PA (1) & Airline\\_TW\\\\\n",
       " <dbl> & <dbl> & <date> & <chr> & <chr> & <chr> & <chr> & <chr> & <chr> & <dbl> & ⋯ & <fct> & <int> & <int> & <int> & <int> & <int> & <int> & <int> & <int> & <int>\\\\\n",
       "\\hline\n",
       "\t  3 & 5 & 2003-03-28 & LAX & JFK & 2210 & 0615 & 2209 & 0617 &   2 & ⋯ & Low & 1 & 0 & 0 & 0 & 0 & 0 & 0 & 0 & 0\\\\\n",
       "\t 11 & 4 & 2018-11-29 & LAX & JFK & 1045 & 1912 & 1049 & 1851 & -21 & ⋯ & Low & 0 & 1 & 0 & 0 & 0 & 0 & 0 & 0 & 0\\\\\n",
       "\t  8 & 5 & 2015-08-28 & LAX & JFK & 0805 & 1634 & 0757 & 1620 & -14 & ⋯ & Low & 1 & 0 & 0 & 0 & 0 & 0 & 0 & 0 & 0\\\\\n",
       "\t  4 & 7 & 2003-04-20 & LAX & JFK & 2205 & 0619 & 2212 & 0616 &  -3 & ⋯ & Low & 0 & 0 & 1 & 0 & 0 & 0 & 0 & 0 & 0\\\\\n",
       "\t 11 & 3 & 2005-11-30 & LAX & JFK & 0840 & 1653 & 0836 & 1640 & -13 & ⋯ & Low & 1 & 0 & 0 & 0 & 0 & 0 & 0 & 0 & 0\\\\\n",
       "\t  4 & 1 & 1992-04-06 & LAX & JFK & 1450 & 2308 & 1452 & 2248 & -20 & ⋯ & Low & 1 & 0 & 0 & 0 & 0 & 0 & 0 & 0 & 0\\\\\n",
       "\\end{tabular}\n"
      ],
      "text/markdown": [
       "\n",
       "A tibble: 6 × 34\n",
       "\n",
       "| Month &lt;dbl&gt; | DayOfWeek &lt;dbl&gt; | FlightDate &lt;date&gt; | Origin &lt;chr&gt; | Dest &lt;chr&gt; | CRSDepTime &lt;chr&gt; | CRSArrTime &lt;chr&gt; | DepTime &lt;chr&gt; | ArrTime &lt;chr&gt; | ArrDelay &lt;dbl&gt; | ⋯ ⋯ | ArrDelay_Bin &lt;fct&gt; | Airline_UA &lt;int&gt; | Airline_AS &lt;int&gt; | Airline_DL &lt;int&gt; | Airline_VX &lt;int&gt; | Airline_HP &lt;int&gt; | Airline_AA &lt;int&gt; | Airline_B6 &lt;int&gt; | Airline_PA (1) &lt;int&gt; | Airline_TW &lt;int&gt; |\n",
       "|---|---|---|---|---|---|---|---|---|---|---|---|---|---|---|---|---|---|---|---|---|\n",
       "|  3 | 5 | 2003-03-28 | LAX | JFK | 2210 | 0615 | 2209 | 0617 |   2 | ⋯ | Low | 1 | 0 | 0 | 0 | 0 | 0 | 0 | 0 | 0 |\n",
       "| 11 | 4 | 2018-11-29 | LAX | JFK | 1045 | 1912 | 1049 | 1851 | -21 | ⋯ | Low | 0 | 1 | 0 | 0 | 0 | 0 | 0 | 0 | 0 |\n",
       "|  8 | 5 | 2015-08-28 | LAX | JFK | 0805 | 1634 | 0757 | 1620 | -14 | ⋯ | Low | 1 | 0 | 0 | 0 | 0 | 0 | 0 | 0 | 0 |\n",
       "|  4 | 7 | 2003-04-20 | LAX | JFK | 2205 | 0619 | 2212 | 0616 |  -3 | ⋯ | Low | 0 | 0 | 1 | 0 | 0 | 0 | 0 | 0 | 0 |\n",
       "| 11 | 3 | 2005-11-30 | LAX | JFK | 0840 | 1653 | 0836 | 1640 | -13 | ⋯ | Low | 1 | 0 | 0 | 0 | 0 | 0 | 0 | 0 | 0 |\n",
       "|  4 | 1 | 1992-04-06 | LAX | JFK | 1450 | 2308 | 1452 | 2248 | -20 | ⋯ | Low | 1 | 0 | 0 | 0 | 0 | 0 | 0 | 0 | 0 |\n",
       "\n"
      ],
      "text/plain": [
       "  Month DayOfWeek FlightDate Origin Dest CRSDepTime CRSArrTime DepTime ArrTime\n",
       "1  3    5         2003-03-28 LAX    JFK  2210       0615       2209    0617   \n",
       "2 11    4         2018-11-29 LAX    JFK  1045       1912       1049    1851   \n",
       "3  8    5         2015-08-28 LAX    JFK  0805       1634       0757    1620   \n",
       "4  4    7         2003-04-20 LAX    JFK  2205       0619       2212    0616   \n",
       "5 11    3         2005-11-30 LAX    JFK  0840       1653       0836    1640   \n",
       "6  4    1         1992-04-06 LAX    JFK  1450       2308       1452    2248   \n",
       "  ArrDelay ⋯ ArrDelay_Bin Airline_UA Airline_AS Airline_DL Airline_VX\n",
       "1   2      ⋯ Low          1          0          0          0         \n",
       "2 -21      ⋯ Low          0          1          0          0         \n",
       "3 -14      ⋯ Low          1          0          0          0         \n",
       "4  -3      ⋯ Low          0          0          1          0         \n",
       "5 -13      ⋯ Low          1          0          0          0         \n",
       "6 -20      ⋯ Low          1          0          0          0         \n",
       "  Airline_HP Airline_AA Airline_B6 Airline_PA (1) Airline_TW\n",
       "1 0          0          0          0              0         \n",
       "2 0          0          0          0              0         \n",
       "3 0          0          0          0              0         \n",
       "4 0          0          0          0              0         \n",
       "5 0          0          0          0              0         \n",
       "6 0          0          0          0              0         "
      ]
     },
     "metadata": {},
     "output_type": "display_data"
    }
   ],
   "source": [
    "# Create indicator variables (dummy variables) for the \"Reporting_Airline\" column.\n",
    "sub_airline_dummy <- sub_airline %>%\n",
    "  mutate(Reporting_Airline = as.factor(Reporting_Airline)) %>%  # Convert to factor\n",
    "  pivot_wider(names_from = Reporting_Airline,                   # Create columns for each airline\n",
    "              values_from = Reporting_Airline,                   # Use Reporting_Airline as values\n",
    "              values_fn = length,                                # Count occurrences\n",
    "              values_fill = 0,                                   # Fill NAs with 0\n",
    "              names_prefix = \"Airline_\")                        # Prefix the new columns\n",
    "\n",
    "# Display the first few rows of the modified dataframe\n",
    "head(sub_airline_dummy)\n"
   ]
  },
  {
   "cell_type": "code",
   "execution_count": 18,
   "id": "fae44d16",
   "metadata": {
    "execution": {
     "iopub.execute_input": "2024-10-18T07:29:09.007697Z",
     "iopub.status.busy": "2024-10-18T07:29:09.006116Z",
     "iopub.status.idle": "2024-10-18T07:29:09.023094Z",
     "shell.execute_reply": "2024-10-18T07:29:09.021332Z"
    },
    "papermill": {
     "duration": 0.032445,
     "end_time": "2024-10-18T07:29:09.025519",
     "exception": false,
     "start_time": "2024-10-18T07:29:08.993074",
     "status": "completed"
    },
    "tags": []
   },
   "outputs": [
    {
     "data": {
      "text/html": [
       "<style>\n",
       ".list-inline {list-style: none; margin:0; padding: 0}\n",
       ".list-inline>li {display: inline-block}\n",
       ".list-inline>li:not(:last-child)::after {content: \"\\00b7\"; padding: 0 .5ex}\n",
       "</style>\n",
       "<ol class=list-inline><li>'Month'</li><li>'DayOfWeek'</li><li>'FlightDate'</li><li>'Reporting_Airline'</li><li>'Origin'</li><li>'Dest'</li><li>'CRSDepTime'</li><li>'CRSArrTime'</li><li>'DepTime'</li><li>'ArrTime'</li><li>'ArrDelay'</li><li>'ArrDelayMinutes'</li><li>'CarrierDelay'</li><li>'WeatherDelay'</li><li>'NASDelay'</li><li>'SecurityDelay'</li><li>'LateAircraftDelay'</li><li>'DepDelay'</li><li>'DepDelayMinutes'</li><li>'DivDistance'</li><li>'DivArrDelay'</li><li>'ArrScaled'</li><li>'DepScaled'</li><li>'zs_ArrDelay'</li><li>'zs_DepDelay'</li><li>'ArrDelay_Bin'</li></ol>\n"
      ],
      "text/latex": [
       "\\begin{enumerate*}\n",
       "\\item 'Month'\n",
       "\\item 'DayOfWeek'\n",
       "\\item 'FlightDate'\n",
       "\\item 'Reporting\\_Airline'\n",
       "\\item 'Origin'\n",
       "\\item 'Dest'\n",
       "\\item 'CRSDepTime'\n",
       "\\item 'CRSArrTime'\n",
       "\\item 'DepTime'\n",
       "\\item 'ArrTime'\n",
       "\\item 'ArrDelay'\n",
       "\\item 'ArrDelayMinutes'\n",
       "\\item 'CarrierDelay'\n",
       "\\item 'WeatherDelay'\n",
       "\\item 'NASDelay'\n",
       "\\item 'SecurityDelay'\n",
       "\\item 'LateAircraftDelay'\n",
       "\\item 'DepDelay'\n",
       "\\item 'DepDelayMinutes'\n",
       "\\item 'DivDistance'\n",
       "\\item 'DivArrDelay'\n",
       "\\item 'ArrScaled'\n",
       "\\item 'DepScaled'\n",
       "\\item 'zs\\_ArrDelay'\n",
       "\\item 'zs\\_DepDelay'\n",
       "\\item 'ArrDelay\\_Bin'\n",
       "\\end{enumerate*}\n"
      ],
      "text/markdown": [
       "1. 'Month'\n",
       "2. 'DayOfWeek'\n",
       "3. 'FlightDate'\n",
       "4. 'Reporting_Airline'\n",
       "5. 'Origin'\n",
       "6. 'Dest'\n",
       "7. 'CRSDepTime'\n",
       "8. 'CRSArrTime'\n",
       "9. 'DepTime'\n",
       "10. 'ArrTime'\n",
       "11. 'ArrDelay'\n",
       "12. 'ArrDelayMinutes'\n",
       "13. 'CarrierDelay'\n",
       "14. 'WeatherDelay'\n",
       "15. 'NASDelay'\n",
       "16. 'SecurityDelay'\n",
       "17. 'LateAircraftDelay'\n",
       "18. 'DepDelay'\n",
       "19. 'DepDelayMinutes'\n",
       "20. 'DivDistance'\n",
       "21. 'DivArrDelay'\n",
       "22. 'ArrScaled'\n",
       "23. 'DepScaled'\n",
       "24. 'zs_ArrDelay'\n",
       "25. 'zs_DepDelay'\n",
       "26. 'ArrDelay_Bin'\n",
       "\n",
       "\n"
      ],
      "text/plain": [
       " [1] \"Month\"             \"DayOfWeek\"         \"FlightDate\"       \n",
       " [4] \"Reporting_Airline\" \"Origin\"            \"Dest\"             \n",
       " [7] \"CRSDepTime\"        \"CRSArrTime\"        \"DepTime\"          \n",
       "[10] \"ArrTime\"           \"ArrDelay\"          \"ArrDelayMinutes\"  \n",
       "[13] \"CarrierDelay\"      \"WeatherDelay\"      \"NASDelay\"         \n",
       "[16] \"SecurityDelay\"     \"LateAircraftDelay\" \"DepDelay\"         \n",
       "[19] \"DepDelayMinutes\"   \"DivDistance\"       \"DivArrDelay\"      \n",
       "[22] \"ArrScaled\"         \"DepScaled\"         \"zs_ArrDelay\"      \n",
       "[25] \"zs_DepDelay\"       \"ArrDelay_Bin\"     "
      ]
     },
     "metadata": {},
     "output_type": "display_data"
    }
   ],
   "source": [
    "colnames(sub_airline)"
   ]
  },
  {
   "cell_type": "code",
   "execution_count": 19,
   "id": "93652732",
   "metadata": {
    "execution": {
     "iopub.execute_input": "2024-10-18T07:29:09.051682Z",
     "iopub.status.busy": "2024-10-18T07:29:09.050060Z",
     "iopub.status.idle": "2024-10-18T07:29:09.127745Z",
     "shell.execute_reply": "2024-10-18T07:29:09.126030Z"
    },
    "papermill": {
     "duration": 0.093362,
     "end_time": "2024-10-18T07:29:09.130123",
     "exception": false,
     "start_time": "2024-10-18T07:29:09.036761",
     "status": "completed"
    },
    "tags": []
   },
   "outputs": [
    {
     "data": {
      "text/html": [
       "<table class=\"dataframe\">\n",
       "<caption>A tibble: 6 × 36</caption>\n",
       "<thead>\n",
       "\t<tr><th scope=col>DayOfWeek</th><th scope=col>FlightDate</th><th scope=col>Reporting_Airline</th><th scope=col>Origin</th><th scope=col>Dest</th><th scope=col>CRSDepTime</th><th scope=col>CRSArrTime</th><th scope=col>DepTime</th><th scope=col>ArrTime</th><th scope=col>ArrDelay</th><th scope=col>⋯</th><th scope=col>Month_8</th><th scope=col>Month_4</th><th scope=col>Month_12</th><th scope=col>Month_2</th><th scope=col>Month_10</th><th scope=col>Month_6</th><th scope=col>Month_7</th><th scope=col>Month_1</th><th scope=col>Month_9</th><th scope=col>Month_5</th></tr>\n",
       "\t<tr><th scope=col>&lt;dbl&gt;</th><th scope=col>&lt;date&gt;</th><th scope=col>&lt;chr&gt;</th><th scope=col>&lt;chr&gt;</th><th scope=col>&lt;chr&gt;</th><th scope=col>&lt;chr&gt;</th><th scope=col>&lt;chr&gt;</th><th scope=col>&lt;chr&gt;</th><th scope=col>&lt;chr&gt;</th><th scope=col>&lt;dbl&gt;</th><th scope=col>⋯</th><th scope=col>&lt;dbl&gt;</th><th scope=col>&lt;dbl&gt;</th><th scope=col>&lt;dbl&gt;</th><th scope=col>&lt;dbl&gt;</th><th scope=col>&lt;dbl&gt;</th><th scope=col>&lt;dbl&gt;</th><th scope=col>&lt;dbl&gt;</th><th scope=col>&lt;dbl&gt;</th><th scope=col>&lt;dbl&gt;</th><th scope=col>&lt;dbl&gt;</th></tr>\n",
       "</thead>\n",
       "<tbody>\n",
       "\t<tr><td>5</td><td>2003-03-28</td><td>UA</td><td>LAX</td><td>JFK</td><td>2210</td><td>0615</td><td>2209</td><td>0617</td><td>  2</td><td>⋯</td><td> 0</td><td>0</td><td>0</td><td>0</td><td>0</td><td>0</td><td>0</td><td>0</td><td>0</td><td>0</td></tr>\n",
       "\t<tr><td>4</td><td>2018-11-29</td><td>AS</td><td>LAX</td><td>JFK</td><td>1045</td><td>1912</td><td>1049</td><td>1851</td><td>-21</td><td>⋯</td><td> 0</td><td>0</td><td>0</td><td>0</td><td>0</td><td>0</td><td>0</td><td>0</td><td>0</td><td>0</td></tr>\n",
       "\t<tr><td>5</td><td>2015-08-28</td><td>UA</td><td>LAX</td><td>JFK</td><td>0805</td><td>1634</td><td>0757</td><td>1620</td><td>-14</td><td>⋯</td><td>-8</td><td>0</td><td>0</td><td>0</td><td>0</td><td>0</td><td>0</td><td>0</td><td>0</td><td>0</td></tr>\n",
       "\t<tr><td>7</td><td>2003-04-20</td><td>DL</td><td>LAX</td><td>JFK</td><td>2205</td><td>0619</td><td>2212</td><td>0616</td><td> -3</td><td>⋯</td><td> 0</td><td>7</td><td>0</td><td>0</td><td>0</td><td>0</td><td>0</td><td>0</td><td>0</td><td>0</td></tr>\n",
       "\t<tr><td>3</td><td>2005-11-30</td><td>UA</td><td>LAX</td><td>JFK</td><td>0840</td><td>1653</td><td>0836</td><td>1640</td><td>-13</td><td>⋯</td><td> 0</td><td>0</td><td>0</td><td>0</td><td>0</td><td>0</td><td>0</td><td>0</td><td>0</td><td>0</td></tr>\n",
       "\t<tr><td>1</td><td>1992-04-06</td><td>UA</td><td>LAX</td><td>JFK</td><td>1450</td><td>2308</td><td>1452</td><td>2248</td><td>-20</td><td>⋯</td><td> 0</td><td>2</td><td>0</td><td>0</td><td>0</td><td>0</td><td>0</td><td>0</td><td>0</td><td>0</td></tr>\n",
       "</tbody>\n",
       "</table>\n"
      ],
      "text/latex": [
       "A tibble: 6 × 36\n",
       "\\begin{tabular}{lllllllllllllllllllll}\n",
       " DayOfWeek & FlightDate & Reporting\\_Airline & Origin & Dest & CRSDepTime & CRSArrTime & DepTime & ArrTime & ArrDelay & ⋯ & Month\\_8 & Month\\_4 & Month\\_12 & Month\\_2 & Month\\_10 & Month\\_6 & Month\\_7 & Month\\_1 & Month\\_9 & Month\\_5\\\\\n",
       " <dbl> & <date> & <chr> & <chr> & <chr> & <chr> & <chr> & <chr> & <chr> & <dbl> & ⋯ & <dbl> & <dbl> & <dbl> & <dbl> & <dbl> & <dbl> & <dbl> & <dbl> & <dbl> & <dbl>\\\\\n",
       "\\hline\n",
       "\t 5 & 2003-03-28 & UA & LAX & JFK & 2210 & 0615 & 2209 & 0617 &   2 & ⋯ &  0 & 0 & 0 & 0 & 0 & 0 & 0 & 0 & 0 & 0\\\\\n",
       "\t 4 & 2018-11-29 & AS & LAX & JFK & 1045 & 1912 & 1049 & 1851 & -21 & ⋯ &  0 & 0 & 0 & 0 & 0 & 0 & 0 & 0 & 0 & 0\\\\\n",
       "\t 5 & 2015-08-28 & UA & LAX & JFK & 0805 & 1634 & 0757 & 1620 & -14 & ⋯ & -8 & 0 & 0 & 0 & 0 & 0 & 0 & 0 & 0 & 0\\\\\n",
       "\t 7 & 2003-04-20 & DL & LAX & JFK & 2205 & 0619 & 2212 & 0616 &  -3 & ⋯ &  0 & 7 & 0 & 0 & 0 & 0 & 0 & 0 & 0 & 0\\\\\n",
       "\t 3 & 2005-11-30 & UA & LAX & JFK & 0840 & 1653 & 0836 & 1640 & -13 & ⋯ &  0 & 0 & 0 & 0 & 0 & 0 & 0 & 0 & 0 & 0\\\\\n",
       "\t 1 & 1992-04-06 & UA & LAX & JFK & 1450 & 2308 & 1452 & 2248 & -20 & ⋯ &  0 & 2 & 0 & 0 & 0 & 0 & 0 & 0 & 0 & 0\\\\\n",
       "\\end{tabular}\n"
      ],
      "text/markdown": [
       "\n",
       "A tibble: 6 × 36\n",
       "\n",
       "| DayOfWeek &lt;dbl&gt; | FlightDate &lt;date&gt; | Reporting_Airline &lt;chr&gt; | Origin &lt;chr&gt; | Dest &lt;chr&gt; | CRSDepTime &lt;chr&gt; | CRSArrTime &lt;chr&gt; | DepTime &lt;chr&gt; | ArrTime &lt;chr&gt; | ArrDelay &lt;dbl&gt; | ⋯ ⋯ | Month_8 &lt;dbl&gt; | Month_4 &lt;dbl&gt; | Month_12 &lt;dbl&gt; | Month_2 &lt;dbl&gt; | Month_10 &lt;dbl&gt; | Month_6 &lt;dbl&gt; | Month_7 &lt;dbl&gt; | Month_1 &lt;dbl&gt; | Month_9 &lt;dbl&gt; | Month_5 &lt;dbl&gt; |\n",
       "|---|---|---|---|---|---|---|---|---|---|---|---|---|---|---|---|---|---|---|---|---|\n",
       "| 5 | 2003-03-28 | UA | LAX | JFK | 2210 | 0615 | 2209 | 0617 |   2 | ⋯ |  0 | 0 | 0 | 0 | 0 | 0 | 0 | 0 | 0 | 0 |\n",
       "| 4 | 2018-11-29 | AS | LAX | JFK | 1045 | 1912 | 1049 | 1851 | -21 | ⋯ |  0 | 0 | 0 | 0 | 0 | 0 | 0 | 0 | 0 | 0 |\n",
       "| 5 | 2015-08-28 | UA | LAX | JFK | 0805 | 1634 | 0757 | 1620 | -14 | ⋯ | -8 | 0 | 0 | 0 | 0 | 0 | 0 | 0 | 0 | 0 |\n",
       "| 7 | 2003-04-20 | DL | LAX | JFK | 2205 | 0619 | 2212 | 0616 |  -3 | ⋯ |  0 | 7 | 0 | 0 | 0 | 0 | 0 | 0 | 0 | 0 |\n",
       "| 3 | 2005-11-30 | UA | LAX | JFK | 0840 | 1653 | 0836 | 1640 | -13 | ⋯ |  0 | 0 | 0 | 0 | 0 | 0 | 0 | 0 | 0 | 0 |\n",
       "| 1 | 1992-04-06 | UA | LAX | JFK | 1450 | 2308 | 1452 | 2248 | -20 | ⋯ |  0 | 2 | 0 | 0 | 0 | 0 | 0 | 0 | 0 | 0 |\n",
       "\n"
      ],
      "text/plain": [
       "  DayOfWeek FlightDate Reporting_Airline Origin Dest CRSDepTime CRSArrTime\n",
       "1 5         2003-03-28 UA                LAX    JFK  2210       0615      \n",
       "2 4         2018-11-29 AS                LAX    JFK  1045       1912      \n",
       "3 5         2015-08-28 UA                LAX    JFK  0805       1634      \n",
       "4 7         2003-04-20 DL                LAX    JFK  2205       0619      \n",
       "5 3         2005-11-30 UA                LAX    JFK  0840       1653      \n",
       "6 1         1992-04-06 UA                LAX    JFK  1450       2308      \n",
       "  DepTime ArrTime ArrDelay ⋯ Month_8 Month_4 Month_12 Month_2 Month_10 Month_6\n",
       "1 2209    0617      2      ⋯  0      0       0        0       0        0      \n",
       "2 1049    1851    -21      ⋯  0      0       0        0       0        0      \n",
       "3 0757    1620    -14      ⋯ -8      0       0        0       0        0      \n",
       "4 2212    0616     -3      ⋯  0      7       0        0       0        0      \n",
       "5 0836    1640    -13      ⋯  0      0       0        0       0        0      \n",
       "6 1452    2248    -20      ⋯  0      2       0        0       0        0      \n",
       "  Month_7 Month_1 Month_9 Month_5\n",
       "1 0       0       0       0      \n",
       "2 0       0       0       0      \n",
       "3 0       0       0       0      \n",
       "4 0       0       0       0      \n",
       "5 0       0       0       0      \n",
       "6 0       0       0       0      "
      ]
     },
     "metadata": {},
     "output_type": "display_data"
    }
   ],
   "source": [
    "# Create indicator variables for the \"Month\" column, using the \"DepDelay\" values instead of a constant.\n",
    "\n",
    "sub_airline <- sub_airline %>%\n",
    "    mutate(Month = as.factor(Month)) %>%\n",
    "    pivot_wider(names_from = Month,\n",
    "                values_from = DepDelay,\n",
    "                values_fill = list(DepDelay=0),\n",
    "                names_prefix = \"Month_\")\n",
    "\n",
    "# Display the first few rows of your transformed data to verify the results.\n",
    "head(sub_airline)"
   ]
  },
  {
   "cell_type": "markdown",
   "id": "1398d4fa",
   "metadata": {
    "papermill": {
     "duration": 0.011398,
     "end_time": "2024-10-18T07:29:09.152966",
     "exception": false,
     "start_time": "2024-10-18T07:29:09.141568",
     "status": "completed"
    },
    "tags": []
   },
   "source": [
    "#### How has the structure of the dataset changed after creating these indicator variables?\n",
    "From Wide to Long: The dataset has transitioned from a single Reporting_Airline column to multiple indicator columns (dummy variables) representing each unique airline.\n",
    "\n",
    "Increased Columns: The number of columns in the dataset has increased, reflecting the number of unique reporting airlines.\n",
    "#### What are the potential benefits and drawbacks of using indicator variables in this context?\n",
    "\n",
    "Enhanced Interpretability: Indicator variables simplify the representation of categorical data, making it easier to analyze and visualize relationships.\n",
    "\n",
    "Facilitates Statistical Modeling: Many statistical models require numerical inputs, and dummy variables enable the inclusion of categorical features in regression and machine learning models.\n",
    "\n",
    "Isolation of Effects: They allow for the examination of the individual impact of each airline on delays or other outcomes.\n",
    "\n",
    "#### How might these indicator variables be useful in further analysis or modeling?\n",
    "Increased Dimensionality: Adding many dummy variables can lead to a high-dimensional dataset, which may complicate analyses and models.\n",
    "\n",
    "Overfitting Risk: In models with many indicators, there is a risk of overfitting, especially if the dataset is small relative to the number of variables.\n",
    "\n",
    "Loss of Information: The original information about the categorical variable can be diluted since the dummy variables may not capture interactions between different categories."
   ]
  },
  {
   "cell_type": "markdown",
   "id": "de577217",
   "metadata": {
    "papermill": {
     "duration": 0.011616,
     "end_time": "2024-10-18T07:29:09.176048",
     "exception": false,
     "start_time": "2024-10-18T07:29:09.164432",
     "status": "completed"
    },
    "tags": []
   },
   "source": [
    "## Task 5: Data Visualization (10 points)"
   ]
  },
  {
   "cell_type": "code",
   "execution_count": 20,
   "id": "cfdf8409",
   "metadata": {
    "execution": {
     "iopub.execute_input": "2024-10-18T07:29:09.202478Z",
     "iopub.status.busy": "2024-10-18T07:29:09.200869Z",
     "iopub.status.idle": "2024-10-18T07:29:09.593613Z",
     "shell.execute_reply": "2024-10-18T07:29:09.591645Z"
    },
    "papermill": {
     "duration": 0.40846,
     "end_time": "2024-10-18T07:29:09.596010",
     "exception": false,
     "start_time": "2024-10-18T07:29:09.187550",
     "status": "completed"
    },
    "tags": []
   },
   "outputs": [
    {
     "data": {
      "text/plain": [
       "List of 136\n",
       " $ line                            :List of 6\n",
       "  ..$ colour       : chr \"black\"\n",
       "  ..$ linewidth    : num 0.5\n",
       "  ..$ linetype     : num 1\n",
       "  ..$ lineend      : chr \"butt\"\n",
       "  ..$ arrow        : logi FALSE\n",
       "  ..$ inherit.blank: logi TRUE\n",
       "  ..- attr(*, \"class\")= chr [1:2] \"element_line\" \"element\"\n",
       " $ rect                            :List of 5\n",
       "  ..$ fill         : chr \"white\"\n",
       "  ..$ colour       : chr \"black\"\n",
       "  ..$ linewidth    : num 0.5\n",
       "  ..$ linetype     : num 1\n",
       "  ..$ inherit.blank: logi TRUE\n",
       "  ..- attr(*, \"class\")= chr [1:2] \"element_rect\" \"element\"\n",
       " $ text                            :List of 11\n",
       "  ..$ family       : chr \"\"\n",
       "  ..$ face         : chr \"plain\"\n",
       "  ..$ colour       : chr \"black\"\n",
       "  ..$ size         : num 11\n",
       "  ..$ hjust        : num 0.5\n",
       "  ..$ vjust        : num 0.5\n",
       "  ..$ angle        : num 0\n",
       "  ..$ lineheight   : num 0.9\n",
       "  ..$ margin       : 'margin' num [1:4] 0points 0points 0points 0points\n",
       "  .. ..- attr(*, \"unit\")= int 8\n",
       "  ..$ debug        : logi FALSE\n",
       "  ..$ inherit.blank: logi TRUE\n",
       "  ..- attr(*, \"class\")= chr [1:2] \"element_text\" \"element\"\n",
       " $ title                           : NULL\n",
       " $ aspect.ratio                    : NULL\n",
       " $ axis.title                      : NULL\n",
       " $ axis.title.x                    :List of 11\n",
       "  ..$ family       : NULL\n",
       "  ..$ face         : NULL\n",
       "  ..$ colour       : NULL\n",
       "  ..$ size         : NULL\n",
       "  ..$ hjust        : NULL\n",
       "  ..$ vjust        : num 1\n",
       "  ..$ angle        : NULL\n",
       "  ..$ lineheight   : NULL\n",
       "  ..$ margin       : 'margin' num [1:4] 2.75points 0points 0points 0points\n",
       "  .. ..- attr(*, \"unit\")= int 8\n",
       "  ..$ debug        : NULL\n",
       "  ..$ inherit.blank: logi TRUE\n",
       "  ..- attr(*, \"class\")= chr [1:2] \"element_text\" \"element\"\n",
       " $ axis.title.x.top                :List of 11\n",
       "  ..$ family       : NULL\n",
       "  ..$ face         : NULL\n",
       "  ..$ colour       : NULL\n",
       "  ..$ size         : NULL\n",
       "  ..$ hjust        : NULL\n",
       "  ..$ vjust        : num 0\n",
       "  ..$ angle        : NULL\n",
       "  ..$ lineheight   : NULL\n",
       "  ..$ margin       : 'margin' num [1:4] 0points 0points 2.75points 0points\n",
       "  .. ..- attr(*, \"unit\")= int 8\n",
       "  ..$ debug        : NULL\n",
       "  ..$ inherit.blank: logi TRUE\n",
       "  ..- attr(*, \"class\")= chr [1:2] \"element_text\" \"element\"\n",
       " $ axis.title.x.bottom             : NULL\n",
       " $ axis.title.y                    :List of 11\n",
       "  ..$ family       : NULL\n",
       "  ..$ face         : NULL\n",
       "  ..$ colour       : NULL\n",
       "  ..$ size         : NULL\n",
       "  ..$ hjust        : NULL\n",
       "  ..$ vjust        : num 1\n",
       "  ..$ angle        : num 90\n",
       "  ..$ lineheight   : NULL\n",
       "  ..$ margin       : 'margin' num [1:4] 0points 2.75points 0points 0points\n",
       "  .. ..- attr(*, \"unit\")= int 8\n",
       "  ..$ debug        : NULL\n",
       "  ..$ inherit.blank: logi TRUE\n",
       "  ..- attr(*, \"class\")= chr [1:2] \"element_text\" \"element\"\n",
       " $ axis.title.y.left               : NULL\n",
       " $ axis.title.y.right              :List of 11\n",
       "  ..$ family       : NULL\n",
       "  ..$ face         : NULL\n",
       "  ..$ colour       : NULL\n",
       "  ..$ size         : NULL\n",
       "  ..$ hjust        : NULL\n",
       "  ..$ vjust        : num 1\n",
       "  ..$ angle        : num -90\n",
       "  ..$ lineheight   : NULL\n",
       "  ..$ margin       : 'margin' num [1:4] 0points 0points 0points 2.75points\n",
       "  .. ..- attr(*, \"unit\")= int 8\n",
       "  ..$ debug        : NULL\n",
       "  ..$ inherit.blank: logi TRUE\n",
       "  ..- attr(*, \"class\")= chr [1:2] \"element_text\" \"element\"\n",
       " $ axis.text                       :List of 11\n",
       "  ..$ family       : NULL\n",
       "  ..$ face         : NULL\n",
       "  ..$ colour       : chr \"grey30\"\n",
       "  ..$ size         : 'rel' num 0.8\n",
       "  ..$ hjust        : NULL\n",
       "  ..$ vjust        : NULL\n",
       "  ..$ angle        : NULL\n",
       "  ..$ lineheight   : NULL\n",
       "  ..$ margin       : NULL\n",
       "  ..$ debug        : NULL\n",
       "  ..$ inherit.blank: logi TRUE\n",
       "  ..- attr(*, \"class\")= chr [1:2] \"element_text\" \"element\"\n",
       " $ axis.text.x                     :List of 11\n",
       "  ..$ family       : NULL\n",
       "  ..$ face         : NULL\n",
       "  ..$ colour       : NULL\n",
       "  ..$ size         : NULL\n",
       "  ..$ hjust        : NULL\n",
       "  ..$ vjust        : num 1\n",
       "  ..$ angle        : NULL\n",
       "  ..$ lineheight   : NULL\n",
       "  ..$ margin       : 'margin' num [1:4] 2.2points 0points 0points 0points\n",
       "  .. ..- attr(*, \"unit\")= int 8\n",
       "  ..$ debug        : NULL\n",
       "  ..$ inherit.blank: logi TRUE\n",
       "  ..- attr(*, \"class\")= chr [1:2] \"element_text\" \"element\"\n",
       " $ axis.text.x.top                 :List of 11\n",
       "  ..$ family       : NULL\n",
       "  ..$ face         : NULL\n",
       "  ..$ colour       : NULL\n",
       "  ..$ size         : NULL\n",
       "  ..$ hjust        : NULL\n",
       "  ..$ vjust        : num 0\n",
       "  ..$ angle        : NULL\n",
       "  ..$ lineheight   : NULL\n",
       "  ..$ margin       : 'margin' num [1:4] 0points 0points 2.2points 0points\n",
       "  .. ..- attr(*, \"unit\")= int 8\n",
       "  ..$ debug        : NULL\n",
       "  ..$ inherit.blank: logi TRUE\n",
       "  ..- attr(*, \"class\")= chr [1:2] \"element_text\" \"element\"\n",
       " $ axis.text.x.bottom              : NULL\n",
       " $ axis.text.y                     :List of 11\n",
       "  ..$ family       : NULL\n",
       "  ..$ face         : NULL\n",
       "  ..$ colour       : NULL\n",
       "  ..$ size         : NULL\n",
       "  ..$ hjust        : num 1\n",
       "  ..$ vjust        : NULL\n",
       "  ..$ angle        : NULL\n",
       "  ..$ lineheight   : NULL\n",
       "  ..$ margin       : 'margin' num [1:4] 0points 2.2points 0points 0points\n",
       "  .. ..- attr(*, \"unit\")= int 8\n",
       "  ..$ debug        : NULL\n",
       "  ..$ inherit.blank: logi TRUE\n",
       "  ..- attr(*, \"class\")= chr [1:2] \"element_text\" \"element\"\n",
       " $ axis.text.y.left                : NULL\n",
       " $ axis.text.y.right               :List of 11\n",
       "  ..$ family       : NULL\n",
       "  ..$ face         : NULL\n",
       "  ..$ colour       : NULL\n",
       "  ..$ size         : NULL\n",
       "  ..$ hjust        : num 0\n",
       "  ..$ vjust        : NULL\n",
       "  ..$ angle        : NULL\n",
       "  ..$ lineheight   : NULL\n",
       "  ..$ margin       : 'margin' num [1:4] 0points 0points 0points 2.2points\n",
       "  .. ..- attr(*, \"unit\")= int 8\n",
       "  ..$ debug        : NULL\n",
       "  ..$ inherit.blank: logi TRUE\n",
       "  ..- attr(*, \"class\")= chr [1:2] \"element_text\" \"element\"\n",
       " $ axis.text.theta                 : NULL\n",
       " $ axis.text.r                     :List of 11\n",
       "  ..$ family       : NULL\n",
       "  ..$ face         : NULL\n",
       "  ..$ colour       : NULL\n",
       "  ..$ size         : NULL\n",
       "  ..$ hjust        : num 0.5\n",
       "  ..$ vjust        : NULL\n",
       "  ..$ angle        : NULL\n",
       "  ..$ lineheight   : NULL\n",
       "  ..$ margin       : 'margin' num [1:4] 0points 2.2points 0points 2.2points\n",
       "  .. ..- attr(*, \"unit\")= int 8\n",
       "  ..$ debug        : NULL\n",
       "  ..$ inherit.blank: logi TRUE\n",
       "  ..- attr(*, \"class\")= chr [1:2] \"element_text\" \"element\"\n",
       " $ axis.ticks                      : list()\n",
       "  ..- attr(*, \"class\")= chr [1:2] \"element_blank\" \"element\"\n",
       " $ axis.ticks.x                    : NULL\n",
       " $ axis.ticks.x.top                : NULL\n",
       " $ axis.ticks.x.bottom             : NULL\n",
       " $ axis.ticks.y                    : NULL\n",
       " $ axis.ticks.y.left               : NULL\n",
       " $ axis.ticks.y.right              : NULL\n",
       " $ axis.ticks.theta                : NULL\n",
       " $ axis.ticks.r                    : NULL\n",
       " $ axis.minor.ticks.x.top          : NULL\n",
       " $ axis.minor.ticks.x.bottom       : NULL\n",
       " $ axis.minor.ticks.y.left         : NULL\n",
       " $ axis.minor.ticks.y.right        : NULL\n",
       " $ axis.minor.ticks.theta          : NULL\n",
       " $ axis.minor.ticks.r              : NULL\n",
       " $ axis.ticks.length               : 'simpleUnit' num 2.75points\n",
       "  ..- attr(*, \"unit\")= int 8\n",
       " $ axis.ticks.length.x             : NULL\n",
       " $ axis.ticks.length.x.top         : NULL\n",
       " $ axis.ticks.length.x.bottom      : NULL\n",
       " $ axis.ticks.length.y             : NULL\n",
       " $ axis.ticks.length.y.left        : NULL\n",
       " $ axis.ticks.length.y.right       : NULL\n",
       " $ axis.ticks.length.theta         : NULL\n",
       " $ axis.ticks.length.r             : NULL\n",
       " $ axis.minor.ticks.length         : 'rel' num 0.75\n",
       " $ axis.minor.ticks.length.x       : NULL\n",
       " $ axis.minor.ticks.length.x.top   : NULL\n",
       " $ axis.minor.ticks.length.x.bottom: NULL\n",
       " $ axis.minor.ticks.length.y       : NULL\n",
       " $ axis.minor.ticks.length.y.left  : NULL\n",
       " $ axis.minor.ticks.length.y.right : NULL\n",
       " $ axis.minor.ticks.length.theta   : NULL\n",
       " $ axis.minor.ticks.length.r       : NULL\n",
       " $ axis.line                       : list()\n",
       "  ..- attr(*, \"class\")= chr [1:2] \"element_blank\" \"element\"\n",
       " $ axis.line.x                     : NULL\n",
       " $ axis.line.x.top                 : NULL\n",
       " $ axis.line.x.bottom              : NULL\n",
       " $ axis.line.y                     : NULL\n",
       " $ axis.line.y.left                : NULL\n",
       " $ axis.line.y.right               : NULL\n",
       " $ axis.line.theta                 : NULL\n",
       " $ axis.line.r                     : NULL\n",
       " $ legend.background               : list()\n",
       "  ..- attr(*, \"class\")= chr [1:2] \"element_blank\" \"element\"\n",
       " $ legend.margin                   : 'margin' num [1:4] 5.5points 5.5points 5.5points 5.5points\n",
       "  ..- attr(*, \"unit\")= int 8\n",
       " $ legend.spacing                  : 'simpleUnit' num 11points\n",
       "  ..- attr(*, \"unit\")= int 8\n",
       " $ legend.spacing.x                : NULL\n",
       " $ legend.spacing.y                : NULL\n",
       " $ legend.key                      : list()\n",
       "  ..- attr(*, \"class\")= chr [1:2] \"element_blank\" \"element\"\n",
       " $ legend.key.size                 : 'simpleUnit' num 1.2lines\n",
       "  ..- attr(*, \"unit\")= int 3\n",
       " $ legend.key.height               : NULL\n",
       " $ legend.key.width                : NULL\n",
       " $ legend.key.spacing              : 'simpleUnit' num 5.5points\n",
       "  ..- attr(*, \"unit\")= int 8\n",
       " $ legend.key.spacing.x            : NULL\n",
       " $ legend.key.spacing.y            : NULL\n",
       " $ legend.frame                    : NULL\n",
       " $ legend.ticks                    : NULL\n",
       " $ legend.ticks.length             : 'rel' num 0.2\n",
       " $ legend.axis.line                : NULL\n",
       " $ legend.text                     :List of 11\n",
       "  ..$ family       : NULL\n",
       "  ..$ face         : NULL\n",
       "  ..$ colour       : NULL\n",
       "  ..$ size         : 'rel' num 0.8\n",
       "  ..$ hjust        : NULL\n",
       "  ..$ vjust        : NULL\n",
       "  ..$ angle        : NULL\n",
       "  ..$ lineheight   : NULL\n",
       "  ..$ margin       : NULL\n",
       "  ..$ debug        : NULL\n",
       "  ..$ inherit.blank: logi TRUE\n",
       "  ..- attr(*, \"class\")= chr [1:2] \"element_text\" \"element\"\n",
       " $ legend.text.position            : NULL\n",
       " $ legend.title                    :List of 11\n",
       "  ..$ family       : NULL\n",
       "  ..$ face         : NULL\n",
       "  ..$ colour       : NULL\n",
       "  ..$ size         : NULL\n",
       "  ..$ hjust        : num 0\n",
       "  ..$ vjust        : NULL\n",
       "  ..$ angle        : NULL\n",
       "  ..$ lineheight   : NULL\n",
       "  ..$ margin       : NULL\n",
       "  ..$ debug        : NULL\n",
       "  ..$ inherit.blank: logi TRUE\n",
       "  ..- attr(*, \"class\")= chr [1:2] \"element_text\" \"element\"\n",
       " $ legend.title.position           : NULL\n",
       " $ legend.position                 : chr \"right\"\n",
       " $ legend.position.inside          : NULL\n",
       " $ legend.direction                : NULL\n",
       " $ legend.byrow                    : NULL\n",
       " $ legend.justification            : chr \"center\"\n",
       " $ legend.justification.top        : NULL\n",
       " $ legend.justification.bottom     : NULL\n",
       " $ legend.justification.left       : NULL\n",
       " $ legend.justification.right      : NULL\n",
       " $ legend.justification.inside     : NULL\n",
       " $ legend.location                 : NULL\n",
       " $ legend.box                      : NULL\n",
       " $ legend.box.just                 : NULL\n",
       " $ legend.box.margin               : 'margin' num [1:4] 0cm 0cm 0cm 0cm\n",
       "  ..- attr(*, \"unit\")= int 1\n",
       " $ legend.box.background           : list()\n",
       "  ..- attr(*, \"class\")= chr [1:2] \"element_blank\" \"element\"\n",
       " $ legend.box.spacing              : 'simpleUnit' num 11points\n",
       "  ..- attr(*, \"unit\")= int 8\n",
       "  [list output truncated]\n",
       " - attr(*, \"class\")= chr [1:2] \"theme\" \"gg\"\n",
       " - attr(*, \"complete\")= logi TRUE\n",
       " - attr(*, \"validate\")= logi TRUE"
      ]
     },
     "metadata": {},
     "output_type": "display_data"
    },
    {
     "data": {
      "image/png": "[encoded data removed]"
     },
     "metadata": {
      "image/png": {
       "height": 420,
       "width": 420
      }
     },
     "output_type": "display_data"
    }
   ],
   "source": [
    "# Create a bar plot showing the number of data points for each airline in the dataset.\n",
    "airline_counts <- sub_airline %>% \n",
    "    group_by(Reporting_Airline) %>%\n",
    "    summarize(Count = n()) # counts the number of data\n",
    "\n",
    "airline_counts %>% ggplot(aes(x =Reporting_Airline, y=Count)) +\n",
    "    geom_bar(stat = \"identity\", fill = \"steelblue\") +\n",
    "    labs(title = \"Number of Data points for each Airline Reportings\",\n",
    "        x = \"Airline\",\n",
    "        y = \"Number of Data Points\")\n",
    "   theme_minimal()"
   ]
  },
  {
   "cell_type": "markdown",
   "id": "5197801e",
   "metadata": {
    "papermill": {
     "duration": 0.013066,
     "end_time": "2024-10-18T07:29:09.622319",
     "exception": false,
     "start_time": "2024-10-18T07:29:09.609253",
     "status": "completed"
    },
    "tags": []
   },
   "source": [
    "#### Which airlines have the most and least data points in the dataset?\n",
    "Airline_AA have the most data points and Airline_HP have the least data points in the dataset.\n",
    "\n",
    "#### How might the differences in the number of data points affect any analysis or conclusions drawn from this dataset?\n",
    "\n",
    "Airlines with more data points can yield more robust statistical analyses. A larger sample size increases the reliability of estimates and the ability to detect significant effects.\n",
    "#### Suggest one additional visualization that could provide further insights into the dataset.\n",
    "\n",
    "Box Plot of Arrival Delays by Airline: A box plot can be useful for visualizing the distribution of arrival delays (ArrDelay) for each airline. This will help identify variations in delays, outliers, and the overall performance of each airline.\n"
   ]
  }
 ],
 "metadata": {
  "kaggle": {
   "accelerator": "none",
   "dataSources": [],
   "dockerImageVersionId": 30749,
   "isGpuEnabled": false,
   "isInternetEnabled": true,
   "language": "r",
   "sourceType": "notebook"
  },
  "kernelspec": {
   "display_name": "R",
   "language": "R",
   "name": "ir"
  },
  "language_info": {
   "codemirror_mode": "r",
   "file_extension": ".r",
   "mimetype": "text/x-r-source",
   "name": "R",
   "pygments_lexer": "r",
   "version": "4.4.0"
  },
  "papermill": {
   "default_parameters": {},
   "duration": 8.443751,
   "end_time": "2024-10-18T07:29:09.758453",
   "environment_variables": {},
   "exception": null,
   "input_path": "__notebook__.ipynb",
   "output_path": "__notebook__.ipynb",
   "parameters": {},
   "start_time": "2024-10-18T07:29:01.314702",
   "version": "2.6.0"
  }
 },
 "nbformat": 4,
 "nbformat_minor": 5
}
